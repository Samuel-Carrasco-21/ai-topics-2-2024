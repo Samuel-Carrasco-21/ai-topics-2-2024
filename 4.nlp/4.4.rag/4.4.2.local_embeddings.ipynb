{
 "cells": [
  {
   "cell_type": "code",
   "execution_count": 1,
   "metadata": {},
   "outputs": [
    {
     "data": {
      "text/plain": [
       "True"
      ]
     },
     "execution_count": 1,
     "metadata": {},
     "output_type": "execute_result"
    }
   ],
   "source": [
    "from dotenv import load_dotenv\n",
    "import openai\n",
    "import os\n",
    "from llama_index.core import (\n",
    "    VectorStoreIndex, \n",
    "    SimpleDirectoryReader, \n",
    "    StorageContext, \n",
    "    load_index_from_storage\n",
    ")\n",
    "load_dotenv()\n",
    "# openai.api_key = os.getenv(\"OPENAI_API_KEY\")"
   ]
  },
  {
   "cell_type": "code",
   "execution_count": 2,
   "metadata": {},
   "outputs": [],
   "source": [
    "from llama_index.embeddings.huggingface import HuggingFaceEmbedding\n",
    "from llama_index.core import Settings\n",
    "\n",
    "embed_model = HuggingFaceEmbedding(model_name=\"BAAI/bge-small-en-v1.5\")\n",
    "Settings.embed_model = embed_model"
   ]
  },
  {
   "cell_type": "code",
   "execution_count": 3,
   "metadata": {},
   "outputs": [
    {
     "data": {
      "application/vnd.jupyter.widget-view+json": {
       "model_id": "b89175b904004c51aae71fafd731f02d",
       "version_major": 2,
       "version_minor": 0
      },
      "text/plain": [
       "Parsing nodes:   0%|          | 0/104 [00:00<?, ?it/s]"
      ]
     },
     "metadata": {},
     "output_type": "display_data"
    },
    {
     "data": {
      "application/vnd.jupyter.widget-view+json": {
       "model_id": "35a40a9e412f4cea8fef2274c998d952",
       "version_major": 2,
       "version_minor": 0
      },
      "text/plain": [
       "Generating embeddings:   0%|          | 0/115 [00:00<?, ?it/s]"
      ]
     },
     "metadata": {},
     "output_type": "display_data"
    }
   ],
   "source": [
    "PERSIST_DIR = \"storage_local_embeddings\"\n",
    "\n",
    "if not os.path.exists(PERSIST_DIR):\n",
    "    documents = SimpleDirectoryReader(\"data\").load_data()\n",
    "    index = VectorStoreIndex.from_documents(documents, show_progress=True)\n",
    "    index.storage_context.persist(persist_dir=PERSIST_DIR)\n",
    "else:\n",
    "    storage_context = StorageContext.from_defaults(persist_dir=PERSIST_DIR) \n",
    "    index = load_index_from_storage(storage_context)"
   ]
  },
  {
   "cell_type": "code",
   "execution_count": 4,
   "metadata": {},
   "outputs": [],
   "source": [
    "query_engine = index.as_query_engine()"
   ]
  },
  {
   "cell_type": "code",
   "execution_count": 5,
   "metadata": {},
   "outputs": [],
   "source": [
    "response = query_engine.query(\"Cuantos casos de embarazo adolescente se presentaron en 2022 en Bolivia?\")\n"
   ]
  },
  {
   "cell_type": "code",
   "execution_count": 6,
   "metadata": {},
   "outputs": [
    {
     "data": {
      "text/plain": [
       "Response(response='En 2022, se registraron un total de 35,250 casos de embarazo adolescente en Bolivia.', source_nodes=[NodeWithScore(node=TextNode(id_='0fef4907-67e8-4874-8e25-689285e32e87', embedding=None, metadata={'page_label': '33', 'file_name': 'informe_avance_bolivia.pdf', 'file_path': '/Users/pepe/dev/upb/topicos/ai-topics-2-2024/4.nlp/4.4.rag/data/informe_avance_bolivia.pdf', 'file_type': 'application/pdf', 'file_size': 5326934, 'creation_date': '2024-10-09', 'last_modified_date': '2024-10-09'}, excluded_embed_metadata_keys=['file_name', 'file_type', 'file_size', 'creation_date', 'last_modified_date', 'last_accessed_date'], excluded_llm_metadata_keys=['file_name', 'file_type', 'file_size', 'creation_date', 'last_modified_date', 'last_accessed_date'], relationships={<NodeRelationship.SOURCE: '1'>: RelatedNodeInfo(node_id='22895737-880e-4356-972f-28ed0e1f8a26', node_type=<ObjectType.DOCUMENT: '4'>, metadata={'page_label': '33', 'file_name': 'informe_avance_bolivia.pdf', 'file_path': '/Users/pepe/dev/upb/topicos/ai-topics-2-2024/4.nlp/4.4.rag/data/informe_avance_bolivia.pdf', 'file_type': 'application/pdf', 'file_size': 5326934, 'creation_date': '2024-10-09', 'last_modified_date': '2024-10-09'}, hash='7fe41b80e07f520bf3c0ec300783be6af822a396ffe3517830d769ea3e6d0bab')}, text='0102030405060707.11082.416\\n68.916\\n60,850\\n56,910\\n49,044\\n39.99939,747\\n35,2504,133\\n3,289\\n2,949\\n2,631\\n2,1702,4042,11975.306\\n64.783\\n57,561\\n53.961\\n46.413\\n37,829\\n37,343 33,1318090\\n2022 2021 2020 2019 2018 2017 2016 2015FIGURA 10Bolivia:  Número de casos de embarazos de adolescentes \\nsegún grupo de edad, 2015-2022 \\n10 a 14 años Total 15 a 19 años\\nFuente: Ministerio de Salud y Deportes en base a datos SNIS – VE.\\nNota: Datos preliminares de la gestión 2022, corte a diciembre.Embarazo infantil y adolescente\\nUna de las metas del PDES 2016-2020 era reducir la proporción de adolescentes embarazadas, como también \\nfue mencionado en el primer Informe País. Desde 2013, el Ministerio de Salud y Deportes implementó el \\nprograma de Atención Integral de Adolescentes (AIDA) orientado a la atención de salud adaptada a las nece-\\nsidades de adolescentes, bajo el enfoque de la Organización Mundial de la Salud, que profundiza la atención \\nen el área de salud sexual y reproductiva e identifi  ca los factores de riesgo en el entorno del adolescente10. \\nRespecto al seguimiento a los casos de adolescentes embarazadas, en 2022 el Ministerio de Salud y Deportes \\nregistró en total 35.250 casos, de los que 2.119 correspondían al grupo de edad de 10 a 14 y 33.131 eran emba-\\nrazos del grupo de 15 a 19 años. Si bien estas cifras disminuyeron desde 2015, la prevalencia, especialmente \\nen niñas, es persistente11.\\n10 En 2012 se elaboró la “Guía de atención integral y diferenciada de adolescentes” (Resolución Ministerial 1771 del 29 de noviembre de 2012). Se comple-\\nmentó con el “Cuadro de procedimiento de atención integrada al continuo del curso de vida” (Resolución Ministerial 0348 del 4 de abril de 2013). \\nLuego se viabilizó con el instrumento de reconocimiento de centros de salud con certifi  cación de los servicios AIDA (Instructivo del Ministerio de Salud \\ny Deportes de julio de 2019), la sentencia constitucional 0206/2014, la norma de atención integral de la población LGTBIQ+ en establecimientos de \\nsalud y el Plan Plurinacional de Prevención del Embarazo de Adolescentes 2021-2025, que actualmente se encuentra dentro del Plan Multisectorial de \\nJuventudes.\\n11 Según el SNIS_VE, el índice de embarazo adolescente en 2022 fue de 14,56, habiendo disminuido desde 18,07 en 2018.Recientemente, el Estado Plurinacional de Bolivia desarrolló una normativa para legislar los derechos de las \\nniñas y las mujeres; también planes y políticas sectoriales que protegen a las adolescentes de la violencia y \\nabordan el tema del embarazo precoz12. Uno de los aspectos relevantes en este campo es la sentencia cons-\\ntitucional N° 206/2014, que eliminó la autorización judicial para acceder al aborto legal cuando el embarazo \\nes producto de violación, estupro, incesto o rapto; y también cuando, por el embarazo, corre peligro la vida o \\nla salud de la mujer13. \\n12  Al respecto, ver el documento de Montaño, 2022. \\n13  Documentos de difusión de IPAS – Bolivia: https://www.ipasbolivia.org \\n33', mimetype='text/plain', start_char_idx=0, end_char_idx=2981, text_template='{metadata_str}\\n\\n{content}', metadata_template='{key}: {value}', metadata_seperator='\\n'), score=0.8265050665837521), NodeWithScore(node=TextNode(id_='ce3b731e-0478-435d-b9ce-11e62086bdbb', embedding=None, metadata={'page_label': '39', 'file_name': 'informe_avance_bolivia.pdf', 'file_path': '/Users/pepe/dev/upb/topicos/ai-topics-2-2024/4.nlp/4.4.rag/data/informe_avance_bolivia.pdf', 'file_type': 'application/pdf', 'file_size': 5326934, 'creation_date': '2024-10-09', 'last_modified_date': '2024-10-09'}, excluded_embed_metadata_keys=['file_name', 'file_type', 'file_size', 'creation_date', 'last_modified_date', 'last_accessed_date'], excluded_llm_metadata_keys=['file_name', 'file_type', 'file_size', 'creation_date', 'last_modified_date', 'last_accessed_date'], relationships={<NodeRelationship.SOURCE: '1'>: RelatedNodeInfo(node_id='f7c84d76-a964-4abc-b324-92b87cbf1aa0', node_type=<ObjectType.DOCUMENT: '4'>, metadata={'page_label': '39', 'file_name': 'informe_avance_bolivia.pdf', 'file_path': '/Users/pepe/dev/upb/topicos/ai-topics-2-2024/4.nlp/4.4.rag/data/informe_avance_bolivia.pdf', 'file_type': 'application/pdf', 'file_size': 5326934, 'creation_date': '2024-10-09', 'last_modified_date': '2024-10-09'}, hash='1ca160c925110189eb97421c1de85528e3f7197414f6c74d0c019fcf3e3f6a44')}, text='Desde 2017, se estableció la prohibición de expulsar del sistema educativo a estudiantes emba-\\nrazadas.\\n \\x1fEn 2022, se dispuso que los “proyectos socio-productivos” de esa gestión tuvieran como eje la \\nsensibilización “una vida libre de violencia contra las mujeres” en el marco del “año de la revolu-\\nción cultural para la despatriarcalización”.\\n \\x1fDesde el Viceministerio de Igualdad de Oportunidades se realizaron actividades de sensibiliza-\\nción, promoción y prevención como:\\n \\x1fLa promoción del trabajo multisectorial (incluyendo a los ministerios de Educación, Salud, Justicia, \\nPresidencia y Trabajo) mediante el Plan de Prevención de Embarazos 2015-2020.\\n \\x1fConversatorios con organizaciones de la sociedad civil y la academia.\\n \\x1fCampañas de prevención en talleres y ferias educativas con participación de estudiantes de \\nsecundaria y de la educación superior.\\n \\x1fEjecución del Programa de Brigadistas con participación de 5.000 jóvenes de más de 300 \\ncentros educativos, lo que permitió conformar “plataformas de prevención del embarazo”.\\nEste conjunto de iniciativas constituye, además, una buena práctica de relacionamiento entre el Estado \\ny organizaciones de la sociedad civil. Este tipo de alianzas tienen la posibilidad de vencer la resis-\\ntencia de padres y madres reticentes al tratamiento de esta temática, y el peso de algunos medios \\nde comunicación y redes sociales que, con sus mensajes, refuerzan mitos y tabúes respecto a la EIS.\\nEl Estado Plurinacional de Bolivia reconoce que las niñas, los niños y los adolescentes son personas en \\nproceso de desarrollo con identidad étnica, sociocultural, de género y generacional. El Estado es garante \\nde los derechos de esta población y desarrolla las Políticas Públicas de la Niña, Niño y Adolescencia21. Estas \\nplantean que el Estado debe generar condiciones para el ejercicio de los derechos de estas poblaciones \\npromoviendo su desarrollo integral, su participación y protagonismo, la disminución de la violencia y de otras \\nsituaciones de vulneración. Lo hace en alianza con los movimientos sociales, las familias, las instituciones de \\nla sociedad civil y la sociedad en su conjunto. Dichas políticas son un medio para el logro de los objetivos \\nexplícitos de las mismas, pero también son un conjunto de orientaciones y directrices de naturaleza pública \\npara enfrentar la violencia, la pobreza, la desigualdad de género y la discriminación. Dichas políticas contem-\\nplan, como ejes, los tipos de protección que establece la Ley N° 548 en el Sistema Plurinacional de Protección \\nIntegral de la Niña, el Niño y el Adolescente.\\nPor su parte, el Plan Multisectorial de Desarrollo Integral (PMDI) 2021-2025 señala las funciones intersec-\\ntoriales desarrolladas en todos los niveles del Estado. Así se constituye en un proceso complementario de \\nplanificación sectorial de acuerdo a las necesidades específicas de coordinación intersectorial en temas de \\nniñas, niños y adolescentes. El PMDI articula acciones, metas y resultados complementarios multisectoriales.\\nEl Programa de Prevención y Protección Social para Niñas, Niños y Adolescentes Menores de 14 Años en \\nActividad Laboral tiene el objetivo de reducir y coadyuvar a la erradicación de la explotación laboral de esta \\npoblación a través de acciones de prevención y protección con una proyección a 2025.\\n21 Aprobadas en el pleno del Consejo de Coordinación Sectorial e Intersectorial para Temas de la Niña, el Niño y el Adolescente (Resolución N° 001/2015 \\nde 9 de abril de 2015).Fuente: Elaborado a partir de información de UDAPE, 2023 y OPD, 2022.\\n39', mimetype='text/plain', start_char_idx=2, end_char_idx=3574, text_template='{metadata_str}\\n\\n{content}', metadata_template='{key}: {value}', metadata_seperator='\\n'), score=0.8056357162584731)], metadata={'0fef4907-67e8-4874-8e25-689285e32e87': {'page_label': '33', 'file_name': 'informe_avance_bolivia.pdf', 'file_path': '/Users/pepe/dev/upb/topicos/ai-topics-2-2024/4.nlp/4.4.rag/data/informe_avance_bolivia.pdf', 'file_type': 'application/pdf', 'file_size': 5326934, 'creation_date': '2024-10-09', 'last_modified_date': '2024-10-09'}, 'ce3b731e-0478-435d-b9ce-11e62086bdbb': {'page_label': '39', 'file_name': 'informe_avance_bolivia.pdf', 'file_path': '/Users/pepe/dev/upb/topicos/ai-topics-2-2024/4.nlp/4.4.rag/data/informe_avance_bolivia.pdf', 'file_type': 'application/pdf', 'file_size': 5326934, 'creation_date': '2024-10-09', 'last_modified_date': '2024-10-09'}})"
      ]
     },
     "execution_count": 6,
     "metadata": {},
     "output_type": "execute_result"
    }
   ],
   "source": [
    "response\n"
   ]
  },
  {
   "cell_type": "code",
   "execution_count": 7,
   "metadata": {},
   "outputs": [],
   "source": [
    "embeddings = embed_model.get_text_embedding(\"hola bola\")"
   ]
  },
  {
   "cell_type": "code",
   "execution_count": 10,
   "metadata": {},
   "outputs": [
    {
     "name": "stdout",
     "output_type": "stream",
     "text": [
      "[-0.046661898493766785, 0.047238241881132126, 0.001964316936209798, -0.05784512311220169, 0.010918747633695602]\n"
     ]
    }
   ],
   "source": [
    "len(embeddings)\n",
    "print(embeddings[:5])"
   ]
  },
  {
   "cell_type": "code",
   "execution_count": 11,
   "metadata": {},
   "outputs": [],
   "source": [
    "prompts_dict = query_engine.get_prompts()"
   ]
  },
  {
   "cell_type": "code",
   "execution_count": 12,
   "metadata": {},
   "outputs": [
    {
     "data": {
      "text/plain": [
       "{'response_synthesizer:text_qa_template': SelectorPromptTemplate(metadata={'prompt_type': <PromptType.QUESTION_ANSWER: 'text_qa'>}, template_vars=['context_str', 'query_str'], kwargs={}, output_parser=None, template_var_mappings={}, function_mappings={}, default_template=PromptTemplate(metadata={'prompt_type': <PromptType.QUESTION_ANSWER: 'text_qa'>}, template_vars=['context_str', 'query_str'], kwargs={}, output_parser=None, template_var_mappings=None, function_mappings=None, template='Context information is below.\\n---------------------\\n{context_str}\\n---------------------\\nGiven the context information and not prior knowledge, answer the query.\\nQuery: {query_str}\\nAnswer: '), conditionals=[(<function is_chat_model at 0x151f256c0>, ChatPromptTemplate(metadata={'prompt_type': <PromptType.CUSTOM: 'custom'>}, template_vars=['context_str', 'query_str'], kwargs={}, output_parser=None, template_var_mappings=None, function_mappings=None, message_templates=[ChatMessage(role=<MessageRole.SYSTEM: 'system'>, content=\"You are an expert Q&A system that is trusted around the world.\\nAlways answer the query using the provided context information, and not prior knowledge.\\nSome rules to follow:\\n1. Never directly reference the given context in your answer.\\n2. Avoid statements like 'Based on the context, ...' or 'The context information ...' or anything along those lines.\", additional_kwargs={}), ChatMessage(role=<MessageRole.USER: 'user'>, content='Context information is below.\\n---------------------\\n{context_str}\\n---------------------\\nGiven the context information and not prior knowledge, answer the query.\\nQuery: {query_str}\\nAnswer: ', additional_kwargs={})]))]),\n",
       " 'response_synthesizer:refine_template': SelectorPromptTemplate(metadata={'prompt_type': <PromptType.REFINE: 'refine'>}, template_vars=['query_str', 'existing_answer', 'context_msg'], kwargs={}, output_parser=None, template_var_mappings={}, function_mappings={}, default_template=PromptTemplate(metadata={'prompt_type': <PromptType.REFINE: 'refine'>}, template_vars=['query_str', 'existing_answer', 'context_msg'], kwargs={}, output_parser=None, template_var_mappings=None, function_mappings=None, template=\"The original query is as follows: {query_str}\\nWe have provided an existing answer: {existing_answer}\\nWe have the opportunity to refine the existing answer (only if needed) with some more context below.\\n------------\\n{context_msg}\\n------------\\nGiven the new context, refine the original answer to better answer the query. If the context isn't useful, return the original answer.\\nRefined Answer: \"), conditionals=[(<function is_chat_model at 0x151f256c0>, ChatPromptTemplate(metadata={'prompt_type': <PromptType.CUSTOM: 'custom'>}, template_vars=['context_msg', 'query_str', 'existing_answer'], kwargs={}, output_parser=None, template_var_mappings=None, function_mappings=None, message_templates=[ChatMessage(role=<MessageRole.USER: 'user'>, content=\"You are an expert Q&A system that strictly operates in two modes when refining existing answers:\\n1. **Rewrite** an original answer using the new context.\\n2. **Repeat** the original answer if the new context isn't useful.\\nNever reference the original answer or context directly in your answer.\\nWhen in doubt, just repeat the original answer.\\nNew Context: {context_msg}\\nQuery: {query_str}\\nOriginal Answer: {existing_answer}\\nNew Answer: \", additional_kwargs={})]))])}"
      ]
     },
     "execution_count": 12,
     "metadata": {},
     "output_type": "execute_result"
    }
   ],
   "source": [
    "prompts_dict"
   ]
  },
  {
   "cell_type": "code",
   "execution_count": 13,
   "metadata": {},
   "outputs": [],
   "source": [
    "from IPython.display import Markdown, display"
   ]
  },
  {
   "cell_type": "code",
   "execution_count": 14,
   "metadata": {},
   "outputs": [
    {
     "data": {
      "text/markdown": [
       "**Prompt Key**: response_synthesizer:text_qa_template<br>**Text:** <br>"
      ],
      "text/plain": [
       "<IPython.core.display.Markdown object>"
      ]
     },
     "metadata": {},
     "output_type": "display_data"
    },
    {
     "name": "stdout",
     "output_type": "stream",
     "text": [
      "Context information is below.\n",
      "---------------------\n",
      "{context_str}\n",
      "---------------------\n",
      "Given the context information and not prior knowledge, answer the query.\n",
      "Query: {query_str}\n",
      "Answer: \n"
     ]
    },
    {
     "data": {
      "text/markdown": [
       "<br><br>"
      ],
      "text/plain": [
       "<IPython.core.display.Markdown object>"
      ]
     },
     "metadata": {},
     "output_type": "display_data"
    },
    {
     "data": {
      "text/markdown": [
       "**Prompt Key**: response_synthesizer:refine_template<br>**Text:** <br>"
      ],
      "text/plain": [
       "<IPython.core.display.Markdown object>"
      ]
     },
     "metadata": {},
     "output_type": "display_data"
    },
    {
     "name": "stdout",
     "output_type": "stream",
     "text": [
      "The original query is as follows: {query_str}\n",
      "We have provided an existing answer: {existing_answer}\n",
      "We have the opportunity to refine the existing answer (only if needed) with some more context below.\n",
      "------------\n",
      "{context_msg}\n",
      "------------\n",
      "Given the new context, refine the original answer to better answer the query. If the context isn't useful, return the original answer.\n",
      "Refined Answer: \n"
     ]
    },
    {
     "data": {
      "text/markdown": [
       "<br><br>"
      ],
      "text/plain": [
       "<IPython.core.display.Markdown object>"
      ]
     },
     "metadata": {},
     "output_type": "display_data"
    }
   ],
   "source": [
    "for k, p in prompts_dict.items():\n",
    "    text_md = f\"**Prompt Key**: {k}<br>\" f\"**Text:** <br>\"\n",
    "    display(Markdown(text_md))\n",
    "    print(p.get_template())\n",
    "    display(Markdown(\"<br><br>\"))"
   ]
  },
  {
   "cell_type": "code",
   "execution_count": null,
   "metadata": {},
   "outputs": [],
   "source": [
    "\"Context information is below.\\n\"\n",
    "\"---------------------\\n\"\n",
    "\"{context_str}\\n\"\n",
    "\"---------------------\\n\"\n",
    "\"Given the context information and not prior knowledge, \"\n",
    "\"answer the query in the style of a Shakespeare play.\\n\"\n",
    "\"Query: {query_str}\\n\"\n",
    "\"Answer: \""
   ]
  }
 ],
 "metadata": {
  "kernelspec": {
   "display_name": ".venv",
   "language": "python",
   "name": "python3"
  },
  "language_info": {
   "codemirror_mode": {
    "name": "ipython",
    "version": 3
   },
   "file_extension": ".py",
   "mimetype": "text/x-python",
   "name": "python",
   "nbconvert_exporter": "python",
   "pygments_lexer": "ipython3",
   "version": "3.11.9"
  }
 },
 "nbformat": 4,
 "nbformat_minor": 2
}
