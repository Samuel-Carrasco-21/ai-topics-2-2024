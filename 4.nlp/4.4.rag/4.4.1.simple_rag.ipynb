{
 "cells": [
  {
   "cell_type": "code",
   "execution_count": 38,
   "metadata": {},
   "outputs": [],
   "source": [
    "from dotenv import load_dotenv\n",
    "import openai\n",
    "import os\n",
    "from llama_index.core import VectorStoreIndex, SimpleDirectoryReader\n",
    "load_dotenv()\n",
    "openai.api_key = os.getenv(\"OPENAI_API_KEY\")"
   ]
  },
  {
   "cell_type": "code",
   "execution_count": 39,
   "metadata": {},
   "outputs": [
    {
     "name": "stderr",
     "output_type": "stream",
     "text": [
      "Ignoring wrong pointing object 8 0 (offset 0)\n",
      "Ignoring wrong pointing object 10 0 (offset 0)\n",
      "Ignoring wrong pointing object 13 0 (offset 0)\n",
      "Ignoring wrong pointing object 15 0 (offset 0)\n",
      "Ignoring wrong pointing object 30 0 (offset 0)\n",
      "Ignoring wrong pointing object 35 0 (offset 0)\n",
      "Ignoring wrong pointing object 41 0 (offset 0)\n",
      "Ignoring wrong pointing object 43 0 (offset 0)\n",
      "Ignoring wrong pointing object 47 0 (offset 0)\n",
      "Ignoring wrong pointing object 55 0 (offset 0)\n",
      "Ignoring wrong pointing object 60 0 (offset 0)\n",
      "Ignoring wrong pointing object 62 0 (offset 0)\n"
     ]
    }
   ],
   "source": [
    "documents = SimpleDirectoryReader(\"data\").load_data()\n",
    "index = VectorStoreIndex.from_documents(documents)"
   ]
  },
  {
   "cell_type": "code",
   "execution_count": null,
   "metadata": {},
   "outputs": [],
   "source": []
  },
  {
   "cell_type": "code",
   "execution_count": 40,
   "metadata": {},
   "outputs": [],
   "source": [
    "query_engine = index.as_query_engine()\n"
   ]
  },
  {
   "cell_type": "code",
   "execution_count": 41,
   "metadata": {},
   "outputs": [],
   "source": [
    "response = query_engine.query(\"¿Cómo se la define a la inteligencia competitica?\")\n"
   ]
  },
  {
   "cell_type": "code",
   "execution_count": 42,
   "metadata": {},
   "outputs": [
    {
     "data": {
      "text/plain": [
       "[NodeWithScore(node=TextNode(id_='7796f3e5-b3fe-4476-99d0-a62ee3472834', embedding=None, metadata={'page_label': '4', 'file_name': 'La importancia del entorno general en las empresas.pdf', 'file_path': '/home/jsamyce/TopicosIA/ai-topics-2-2024/4.nlp/4.4.rag/data/La importancia del entorno general en las empresas.pdf', 'file_type': 'application/pdf', 'file_size': 316209, 'creation_date': '2024-10-10', 'last_modified_date': '2023-03-28'}, excluded_embed_metadata_keys=['file_name', 'file_type', 'file_size', 'creation_date', 'last_modified_date', 'last_accessed_date'], excluded_llm_metadata_keys=['file_name', 'file_type', 'file_size', 'creation_date', 'last_modified_date', 'last_accessed_date'], relationships={<NodeRelationship.SOURCE: '1'>: RelatedNodeInfo(node_id='e6b0fba7-7579-4953-8b66-26431faff940', node_type=<ObjectType.DOCUMENT: '4'>, metadata={'page_label': '4', 'file_name': 'La importancia del entorno general en las empresas.pdf', 'file_path': '/home/jsamyce/TopicosIA/ai-topics-2-2024/4.nlp/4.4.rag/data/La importancia del entorno general en las empresas.pdf', 'file_type': 'application/pdf', 'file_size': 316209, 'creation_date': '2024-10-10', 'last_modified_date': '2023-03-28'}, hash='90c6b4a846e296a17cb30b4fb026c6be047017e6eeeacfe75706c8b82ada996a')}, text=\"65/D\\x03LPSRUWDQFLD\\x03GHO\\x03HQWRUQR\\x03JHQHUDO\\x03HQ\\x03ODV\\x03HPSUHVDV\\x03\\nson los actores del microambiente (ubicación, \\ninstalaciones, recursos, tamaño, etc.); y las fuerzas \\ndel macroambiente, en las que se anotan, a: \\nproveedores, intermediarios, gobierno, competencia, \\npúblico, mercado, ámbito económico, entorno \\ntecnológico, entorno cultural, entre otras.\\n9\\x11\\x03*58326\\x03(675$7e*,&26\\nPara  Hitt, Ireland y Hoskisson (2008, p. 62) un  \\ngrupo estratégico está compuesto por un conjunto \\nde empresas que hacen hincapié en dimensiones \\nestratégicas similares para utilizar estrategias \\nidénticas. La competencia entre las empresas que \\nforman parte del grupo estratégico es más fuerte \\nque aquella que ocurre entre un miembro de un \\ngrupo estratégico y las empresas que están fuera de \\nese grupo.\\n,JOHVLDV\\x03 \\x0b\\x14\\x1c\\x1c\\x1a\\x0c\\x0f\\x03 H[SRQH\\x03 TXH\\x03 ORV\\x03 JUXSRV\\x03\\nestratégicos se basarán en las diferencias de \\nrecursos y capacidades estratégicas de las empresas \\nde una misma industria. Una idea como ésta, supone \\nque cada grupo tiene una fuente distintiva de \\nventajas competitivas difícilmente imitable por otros \\ngrupos, dado que las capacidades estratégicas son \\nel resultado de una secuencia única de decisiones \\nque no puede ser reproducida completamente o con \\ncertidumbre.\\n9,\\x11\\x03&21&/86,21(6\\nSin duda, las empresas son totalmente dependientes \\nde sus entornos, pero sobre todo es importante \\ndestacar que la relación empresa-entorno debe de \\ndarse en todo momento, ya que de ello dependerá \\nsu éxito y sobre todo la participación en el mercado \\nque atienda. \\nDebe de ser tal el grado de interrelación entre \\nambas, que las organizaciones están obligadas a \\nmantener un análisis permanente de las premisas \\nGHO\\x03 HQWRUQR\\x0f\\x03 FRQ\\x03 HO\\x03 ¿Q\\x03 GH\\x03 LGHQWL¿FDU\\x03 D\\x03 WLHPSR\\x03 HO\\x03\\nimpacto y las repercusiones que tienen en ella, y de \\nla misma forma no afecte en la toma de decisiones y \\ndesarrollo operativo de la organización.\\nREFERENCIAS\\n&DEDQHODV\\x0f\\x03-\\x11\\x03\\x0b\\x14\\x1c\\x1c\\x1a\\x0c\\x11\\x03'LUHFFLyQ\\x03GH\\x03HPSUHVDV\\x1d\\x03%DVHV\\x03HQ\\x03XQ\\x03HQWRUQR\\x03\\nabierto y dinámico.  México: Pirámide.\\nDess, Gregory y G.T. Lumpkin (2003). Dirección estratégica . \\nAravaca, España: McGraw-Hill.\\nHitt Michael, Duane Ireland y Hoskisson Robert (2008). \\nAdministración estratégica competitividad y globalización. \\nMéxico: CENGACE.\\n,JOHVLDV\\x0f\\x039\\x11\\x03\\x0b\\x14\\x1c\\x1c\\x1a\\x0c\\x11\\x03/D\\x03WHRUtD\\x03GH\\x03JUXSRV\\x03HVWUDWpJLFRV\\x11\\x03(VSDxRO\\x1d\\x03(6,&\\x03\\nMARKET.\\nMintzberg, H., Lampel, J., Quinn, J. y Ghosal, S. (2003): The \\nstrategy process: Con-cepts, contexts, cases. Estados \\nUnidos: Prentice Hall. Porter, Michael E. (1989). Ventaja Competitiva. México: Editorial \\nContinental.\\nStoner James, Freeman Edward, Gilbert Daniel (1996). \\nAdministración. Estados Unidos: Prentice Hall.\", mimetype='text/plain', start_char_idx=0, end_char_idx=2618, text_template='{metadata_str}\\n\\n{content}', metadata_template='{key}: {value}', metadata_seperator='\\n'), score=0.7919042031603469),\n",
       " NodeWithScore(node=TextNode(id_='db8e79b3-e07c-44c1-803c-02f33e5192a0', embedding=None, metadata={'page_label': '2', 'file_name': 'La importancia del entorno general en las empresas.pdf', 'file_path': '/home/jsamyce/TopicosIA/ai-topics-2-2024/4.nlp/4.4.rag/data/La importancia del entorno general en las empresas.pdf', 'file_type': 'application/pdf', 'file_size': 316209, 'creation_date': '2024-10-10', 'last_modified_date': '2023-03-28'}, excluded_embed_metadata_keys=['file_name', 'file_type', 'file_size', 'creation_date', 'last_modified_date', 'last_accessed_date'], excluded_llm_metadata_keys=['file_name', 'file_type', 'file_size', 'creation_date', 'last_modified_date', 'last_accessed_date'], relationships={<NodeRelationship.SOURCE: '1'>: RelatedNodeInfo(node_id='370022ad-6278-43c1-8909-520ea699a809', node_type=<ObjectType.DOCUMENT: '4'>, metadata={'page_label': '2', 'file_name': 'La importancia del entorno general en las empresas.pdf', 'file_path': '/home/jsamyce/TopicosIA/ai-topics-2-2024/4.nlp/4.4.rag/data/La importancia del entorno general en las empresas.pdf', 'file_type': 'application/pdf', 'file_size': 316209, 'creation_date': '2024-10-10', 'last_modified_date': '2023-03-28'}, hash='5141e1476263fe83893e86940193f8ed465715e54f752b029efba18145b85000'), <NodeRelationship.NEXT: '3'>: RelatedNodeInfo(node_id='d97a6e48-0ce5-4350-98be-07e6b7258d0b', node_type=<ObjectType.TEXT: '1'>, metadata={}, hash='6d9226bb2714259bc38141fa9cad50f7c84074bc3e8c9072941610b0d41bd137')}, text=\"63/D\\x03LPSRUWDQFLD\\x03GHO\\x03HQWRUQR\\x03JHQHUDO\\x03HQ\\x03ODV\\x03HPSUHVDV\\x03\\nen su ámbito interno. La empresa puede intentar \\nelegir un entorno que le sea favorable y aprovechar \\ndeterminados factores del mismo, e incluso incidir \\nH\\x03LQÀXLU\\x03HQ\\x03OD\\x03HYROXFLyQ\\x03GHO\\x03PLVPR\\x0f\\x03SHUR\\x03QR\\x03SXHGH\\x03\\ncontrolarlo.\\nEl segundo, es que el entorno está formado por \\ntodos aquellos factores externos a la empresa que \\ninciden o pueden llegar a incidir en sus resultados. \\nPara que un factor sea considerado un aspecto \\nestratégico del entorno de una empresa, debe tener \\nimplicaciones para la misma, en la actualidad o en \\nel futuro. \\n3RUWHU\\x03\\x0b\\x14\\x1c\\x1b\\x1c\\x0f\\x03S\\x11\\x03\\x1a\\x19\\x0c\\x03GHVWDFD\\x03TXH\\x1d\\x03³«OD\\x03HVHQFLD\\x03\\nde la formulación de una estrategia competitiva \\nconsiste en relacionar a una empresa con su \\nmedio ambiente. Aunque el entorno relevante, es \\nmuy amplio y abarca tanto fuerzas sociales como \\neconómicas, el aspecto clave del entorno de la \\nempresa es el sector o sectores industriales en los \\ncuales compiten”.\\nPor ello, Mintzberg, Quinn y Ghoshal (2003), \\nGH¿QHQ\\x03DO\\x03HQWRUQR\\x03FRPR\\x03WRGR\\x03DTXHOOR\\x03TXH\\x03HV\\x03DMHQR\\x03\\na la empresa como organización. No obstante, a \\nPHQXGR\\x03VH\\x03SUHVHQWDQ\\x03GL¿FXOWDGHV\\x03SDUD\\x03GHWHUPLQDU\\x03\\ncon certeza o exactitud dónde están las fronteras \\no los auténticos límites de la empresa con respecto \\na lo que se conoce como medio exterior. El entorno \\nDVt\\x03 GH¿QLGR\\x0f\\x03 HV\\x03 DOJR\\x03 H[WUDRUGLQDULDPHQWH\\x03 DPSOLR\\x0f\\x03\\nque desde un punto de vista operativo sería casi \\nimposible de analizar por su amplia generalidad. \\nEs por ello, que se puede convenir que el entorno \\nVH\\x03UH¿HUH\\x03D\\x03WRGRV\\x03DTXHOORV\\x03IDFWRUHV\\x03H[WHUQRV\\x03D\\x03OD\\x03\\nHPSUHVD\\x03TXH\\x03WHQJDQ\\x03XQD\\x03LQÀXHQFLD\\x03VLJQL¿FDWLYD\\x03HQ\\x03\\nla estrategia empresarial y que la misma no puede \\ncontrolar.\\n,,,\\x11\\x03&5($5\\x0381$\\x0325*$1,=$&,Ï1\\x03&216&,(17(\\x03\\n'(\\x0368\\x03(172512\\nRespecto al entorno en que se mueven las \\norganizaciones y que determinan su permanencia, \\ncrecimiento y competencia, es una exigencia el estar \\npermanentemente analizando los diferentes factores \\nque inciden en la operación de las mismas.\\nDess y Lumpkin (2003, p. 44) describen \\ncuatro importantes procesos para el análisis del \\nentorno: exploración, vigilancia, acumulación de \\ninteligencia competitiva y pronóstico, a continuación \\nse describen:\\na) Explorar el entorno.  La exploración del \\nentorno supone la supervisión del entorno de la \\nempresa para predecir los cambios venideros y \\ndetectar cambios todavía en camino. Una buena \\nexploración del entorno alerta a la organización \\nsobre tendencias o acontecimientos críticos, antes \\nde que los cambios hayan desarrollado un patrón discernible, y antes de que los competidores lo \\nreconozcan. De lo contrario la empresa puede verse \\nforzada a adoptar una postura reactiva en lugar de \\nproactiva.\\nb) Vigilar el entorno.  La vigilancia del entorno \\nrastrea la evolución de las tendencias de éste, de \\nlas secuencias de acontecimientos o del curso de \\nlas actividades.\", mimetype='text/plain', start_char_idx=0, end_char_idx=2839, text_template='{metadata_str}\\n\\n{content}', metadata_template='{key}: {value}', metadata_seperator='\\n'), score=0.7826675758604913)]"
      ]
     },
     "execution_count": 42,
     "metadata": {},
     "output_type": "execute_result"
    }
   ],
   "source": [
    "response.source_nodes"
   ]
  },
  {
   "cell_type": "code",
   "execution_count": 43,
   "metadata": {},
   "outputs": [],
   "source": [
    "index.storage_context.persist()"
   ]
  },
  {
   "cell_type": "code",
   "execution_count": 44,
   "metadata": {},
   "outputs": [],
   "source": [
    "from llama_index.core import StorageContext, load_index_from_storage\n",
    "PERSIST_DIR = \"storage\"\n",
    "\n",
    "if not os.path.exists(PERSIST_DIR):\n",
    "    documents = SimpleDirectoryReader(\"data\").load_data()\n",
    "    index = VectorStoreIndex.from_documents(documents)\n",
    "    index.storage_context.persist(persist_dir=PERSIST_DIR)\n",
    "else:\n",
    "    storage_context = StorageContext.from_defaults(persist_dir=PERSIST_DIR) \n",
    "    index = load_index_from_storage(storage_context)"
   ]
  },
  {
   "cell_type": "code",
   "execution_count": null,
   "metadata": {},
   "outputs": [],
   "source": []
  },
  {
   "cell_type": "code",
   "execution_count": null,
   "metadata": {},
   "outputs": [],
   "source": []
  }
 ],
 "metadata": {
  "kernelspec": {
   "display_name": "topics_2024",
   "language": "python",
   "name": "python3"
  },
  "language_info": {
   "codemirror_mode": {
    "name": "ipython",
    "version": 3
   },
   "file_extension": ".py",
   "mimetype": "text/x-python",
   "name": "python",
   "nbconvert_exporter": "python",
   "pygments_lexer": "ipython3",
   "version": "3.11.9"
  }
 },
 "nbformat": 4,
 "nbformat_minor": 2
}
