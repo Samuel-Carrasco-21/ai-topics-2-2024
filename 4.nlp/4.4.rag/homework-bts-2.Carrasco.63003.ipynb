{
 "cells": [
  {
   "cell_type": "code",
   "execution_count": 25,
   "metadata": {},
   "outputs": [
    {
     "data": {
      "text/plain": [
       "True"
      ]
     },
     "execution_count": 25,
     "metadata": {},
     "output_type": "execute_result"
    }
   ],
   "source": [
    "from dotenv import load_dotenv\n",
    "import openai\n",
    "import os\n",
    "from llama_index.core import (\n",
    "    Settings,\n",
    "    VectorStoreIndex,\n",
    "    SimpleDirectoryReader, \n",
    "    StorageContext,\n",
    "    load_index_from_storage,\n",
    "    Document,\n",
    "    PromptTemplate\n",
    ")\n",
    "load_dotenv()"
   ]
  },
  {
   "cell_type": "code",
   "execution_count": 26,
   "metadata": {},
   "outputs": [],
   "source": [
    "from llama_index.embeddings.huggingface import HuggingFaceEmbedding\n",
    "\n",
    "embed_model = HuggingFaceEmbedding(model_name=\"intfloat/multilingual-e5-base\")\n",
    "Settings.embed_model = embed_model"
   ]
  },
  {
   "cell_type": "code",
   "execution_count": 27,
   "metadata": {},
   "outputs": [],
   "source": [
    "def get_artist_documents(filename: str) -> list[Document]:\n",
    "    with open(filename) as file:\n",
    "        data = file.read()\n",
    "    songs = data.split(\"===\")\n",
    "    artist = songs.pop(0).strip()\n",
    "    \n",
    "    documents = [\n",
    "        Document(\n",
    "            text=song,\n",
    "            metadata={\n",
    "                \"category\":\"music\",\n",
    "                \"artist\": artist,\n",
    "            }\n",
    "        )\n",
    "        for song in songs\n",
    "    ]    \n",
    "    return documents"
   ]
  },
  {
   "cell_type": "code",
   "execution_count": 28,
   "metadata": {},
   "outputs": [],
   "source": [
    "import os\n",
    "PERSIST_DIR = \"lyrics_store2\"\n",
    "\n",
    "if not os.path.exists(PERSIST_DIR):\n",
    "    documents = get_artist_documents(\"47923_BTS.txt\")\n",
    "    index = VectorStoreIndex.from_documents(documents, show_progress=True)\n",
    "    index.storage_context.persist(persist_dir=PERSIST_DIR)\n",
    "else:\n",
    "    storage_context = StorageContext.from_defaults(persist_dir=PERSIST_DIR) \n",
    "    index = load_index_from_storage(storage_context)"
   ]
  },
  {
   "cell_type": "code",
   "execution_count": 29,
   "metadata": {},
   "outputs": [],
   "source": [
    "query_engine = index.as_query_engine()"
   ]
  },
  {
   "cell_type": "code",
   "execution_count": 30,
   "metadata": {},
   "outputs": [],
   "source": [
    "qa_template_str = \"\"\"\n",
    "    You are an expert in K-Pop music, your task is to guide and teach the user \n",
    "    about your field. Answer the user queries only with supported data in your context.\n",
    "    Your context may contain complete lyrics or parts of them in different languages, but\n",
    "    your answer will always be in Spanish. \n",
    "\n",
    "    Context information is below.\n",
    "    ---------------------\n",
    "    {context_str}\n",
    "    ---------------------\n",
    "    Given the context information and not prior knowledge, \n",
    "    answer the query with detailed source information, include direct quotes and use bullet lists in your \n",
    "    answers, in one of the bullets detail the tone/sentiment of the song.\n",
    "    Query: {query_str}\n",
    "    Answer: \n",
    "\"\"\"\n",
    "qa_template = PromptTemplate(qa_template_str)"
   ]
  },
  {
   "cell_type": "code",
   "execution_count": 31,
   "metadata": {},
   "outputs": [],
   "source": [
    "query_engine.update_prompts(\n",
    "    {\"response_synthesizer:text_qa_template\": qa_template}\n",
    ")"
   ]
  },
  {
   "cell_type": "code",
   "execution_count": 32,
   "metadata": {},
   "outputs": [],
   "source": [
    "from llama_index.agent.openai import OpenAIAgent\n",
    "from llama_index.core.tools import QueryEngineTool, ToolMetadata\n",
    "\n",
    "description = \"\"\"\n",
    "A set of lyrics for songs from the Korean Group BTS. \n",
    "Use plain text question as input to the tool. \n",
    "MANDATORY: Pass the response to the user as is, mantaining the format, do not try to summarize when using this tool.\n",
    "\"\"\"\n",
    "tools = [\n",
    "    QueryEngineTool(\n",
    "        query_engine=query_engine,\n",
    "        metadata=ToolMetadata(\n",
    "            name=\"BTS_songs_lyrics\",\n",
    "            description=description,\n",
    "            return_direct=False\n",
    "        )\n",
    "    )\n",
    "]\n",
    "agent = OpenAIAgent.from_tools(tools=tools, verbose=True)"
   ]
  },
  {
   "cell_type": "code",
   "execution_count": 33,
   "metadata": {},
   "outputs": [
    {
     "name": "stdout",
     "output_type": "stream",
     "text": [
      "Added user message to memory: ¿Qué canciones de BTS hablan de nostalgia?\n",
      "=== Calling Function ===\n",
      "Calling function: BTS_songs_lyrics with args: {\"input\":\"nostalgia\"}\n",
      "Got output: - La canción \"Bad Decisions\" de BTS no tiene un tema específico de nostalgia, pero en su letra se puede apreciar un tono de melancolía y anhelo por el amor y la compañía de la persona amada.\n",
      "- En la canción se mencionan frases como \"And it feels like I can't seem to ever get you out of my mind\" y \"I want you, ooh, baby, all of the time\", que reflejan un sentimiento de nostalgia y deseo constante por la persona amada.\n",
      "- A pesar de que la canción tiene un ritmo animado y pegajoso, las letras transmiten una sensación de añoranza y nostalgia por la presencia y el amor de esa persona especial.\n",
      "========================\n",
      "\n",
      "=== Calling Function ===\n",
      "Calling function: BTS_songs_lyrics with args: {\"input\":\"nostalgia\"}\n",
      "Got output: - La canción \"Bad Decisions\" de BTS no tiene un tono de nostalgia, más bien tiene un tono de deseo y pasión.\n",
      "- En la canción, se mencionan versos como \"And it feels like (Ooh, ah) I can't seem to ever get you out of my mind\" y \"I want you, ooh, baby, all of the time\", que reflejan un sentimiento de intensa atracción y deseo.\n",
      "- La letra de la canción se centra en querer estar con alguien todo el tiempo y tomar decisiones arriesgadas por amor.\n",
      "========================\n",
      "\n",
      "=== Calling Function ===\n",
      "Calling function: BTS_songs_lyrics with args: {\"input\": \"nostalgia\"}\n",
      "Got output: - La canción \"Bad Decisions\" de BTS no tiene un tono de nostalgia, más bien tiene un tono sensual y provocativo.\n",
      "- En la canción, se mencionan frases como \"I want you, ooh, baby, all of the time\" y \"Let's make some bad decisions\", lo que refleja un deseo intenso y pasional.\n",
      "- La letra de la canción se centra en la atracción física y la intensidad del deseo entre dos personas, sin mencionar sentimientos de nostalgia.\n",
      "========================\n",
      "\n",
      "=== Calling Function ===\n",
      "Calling function: BTS_songs_lyrics with args: {\"input\": \"nostalgia\"}\n",
      "Got output: - La canción \"Bad Decisions\" de BTS no tiene un tono de nostalgia, más bien tiene un tono de deseo y pasión.\n",
      "- En la canción, se mencionan frases como \"I want your love, I want your name\" y \"I want you, ooh, baby, all of the time\", lo que refleja un deseo intenso por la persona amada.\n",
      "- El verso de Snoop Dogg también refleja esta pasión y deseo, con frases como \"Let's do things you always wanted\" y \"I want you, ooh, baby, all of the time\".\n",
      "- La canción tiene un tono sensual y provocativo, con referencias a hacer \"malas decisiones\" y a querer estar con la persona amada todo el tiempo.\n",
      "========================\n",
      "\n"
     ]
    }
   ],
   "source": [
    "response = agent.chat(\"¿Qué canciones de BTS hablan de nostalgia?\")"
   ]
  },
  {
   "cell_type": "code",
   "execution_count": 34,
   "metadata": {},
   "outputs": [
    {
     "data": {
      "text/plain": [
       "'- La canción \"Bad Decisions\" de BTS no tiene un tono de nostalgia, más bien tiene un tono sensual y provocativo.\\n- En la canción, se mencionan frases como \"I want you, ooh, baby, all of the time\" y \"Let\\'s make some bad decisions\", lo que refleja un deseo intenso y pasional.\\n- La letra de la canción se centra en la atracción física y la intensidad del deseo entre dos personas, sin mencionar sentimientos de nostalgia.\\n\\n- La canción \"Bad Decisions\" de BTS no tiene un tono de nostalgia, más bien tiene un tono de deseo y pasión.\\n- En la canción, se mencionan frases como \"I want your love, I want your name\" y \"I want you, ooh, baby, all of the time\", lo que refleja un deseo intenso por la persona amada.\\n- El verso de Snoop Dogg también refleja esta pasión y deseo, con frases como \"Let\\'s do things you always wanted\" y \"I want you, ooh, baby, all of the time\".\\n- La canción tiene un tono sensual y provocativo, con referencias a hacer \"malas decisiones\" y a querer estar con la persona amada todo el tiempo.'"
      ]
     },
     "execution_count": 34,
     "metadata": {},
     "output_type": "execute_result"
    }
   ],
   "source": [
    "response.response"
   ]
  },
  {
   "cell_type": "code",
   "execution_count": 35,
   "metadata": {},
   "outputs": [
    {
     "name": "stdout",
     "output_type": "stream",
     "text": [
      "Added user message to memory: ¿Qué canciones hablan sobre el amor propio?\n",
      "=== Calling Function ===\n",
      "Calling function: BTS_songs_lyrics with args: {\"input\":\"self-love\"}\n",
      "Got output: - La canción \"Outro: Luv In Skool\" de BTS aborda el tema del amor propio y la autoaceptación.\n",
      "- En la letra se mencionan frases como \"I just wanna love ya\" y \"Me amo a mí mismo\", enfatizando la importancia de amarse a uno mismo.\n",
      "- Se hace referencia a la idea de conocerse a uno mismo y aceptarse tal como se es.\n",
      "- El tono de la canción es positivo y empoderador, animando a los oyentes a amarse a sí mismos y a no depender de la validación externa.\n",
      "========================\n",
      "\n",
      "=== Calling Function ===\n",
      "Calling function: BTS_songs_lyrics with args: {\"input\":\"self-love\"}\n",
      "Got output: - La canción \"Outro: Luv In Skool\" de BTS aborda el tema del amor propio y la importancia de amarse a uno mismo.\n",
      "- En la letra se mencionan frases como \"I just wanna love ya\" y \"Me amo, me amo, me amo a mí mismo\", resaltando la idea de valorarse y aceptarse tal como uno es.\n",
      "- Se hace referencia a la idea de que incluso en medio de los sueños y aspiraciones, es fundamental tener amor propio y reconocerse a uno mismo.\n",
      "- El tono de la canción es positivo y motivador, animando a los oyentes a amarse a sí mismos y a no depender del amor o aprobación de los demás.\n",
      "========================\n",
      "\n",
      "=== Calling Function ===\n",
      "Calling function: BTS_songs_lyrics with args: {\"input\": \"self-love\"}\n",
      "Got output: - La canción \"Outro: Luv In Skool\" de BTS aborda el tema del amor propio y la autoaceptación.\n",
      "- En la letra se mencionan frases como \"I just wanna love ya\" y \"Me amo a mí mismo\", que reflejan la importancia de valorarse a uno mismo.\n",
      "- Se hace referencia a la idea de conocerse a uno mismo y amarse tal como se es, sin importar las opiniones de los demás.\n",
      "- El tono de la canción es positivo y empoderador, animando a los oyentes a amarse a sí mismos y no dejarse influenciar por los haters.\n",
      "========================\n",
      "\n",
      "=== Calling Function ===\n",
      "Calling function: BTS_songs_lyrics with args: {\"input\": \"self-love\"}\n",
      "Got output: - La canción \"Outro: Luv In Skool\" de BTS aborda el tema del amor propio.\n",
      "- En la letra se mencionan frases como \"I just wanna love ya\" y \"Me amo a mí mismo\", enfatizando la importancia de amarse a uno mismo.\n",
      "- Se hace referencia a la idea de conocerse a uno mismo y aceptarse, como se ve en la línea \"Me conozco, me conozco, me conozco a mí mismo\".\n",
      "- El tono de la canción es positivo y empoderador, animando a los oyentes a amarse a sí mismos y valorarse.\n",
      "========================\n",
      "\n"
     ]
    }
   ],
   "source": [
    "response = agent.chat(\"¿Qué canciones hablan sobre el amor propio?\")"
   ]
  },
  {
   "cell_type": "code",
   "execution_count": null,
   "metadata": {},
   "outputs": [],
   "source": []
  },
  {
   "cell_type": "markdown",
   "metadata": {},
   "source": [
    "### TAREA 15-10-2024"
   ]
  },
  {
   "cell_type": "code",
   "execution_count": 1,
   "metadata": {},
   "outputs": [
    {
     "data": {
      "text/plain": [
       "True"
      ]
     },
     "execution_count": 1,
     "metadata": {},
     "output_type": "execute_result"
    }
   ],
   "source": [
    "import wikipedia\n",
    "from llama_index.core import Document, VectorStoreIndex\n",
    "from llama_index.agent.openai import OpenAIAgent\n",
    "from llama_index.core.tools import QueryEngineTool, ToolMetadata\n",
    "from dotenv import load_dotenv\n",
    "load_dotenv()"
   ]
  },
  {
   "cell_type": "code",
   "execution_count": 2,
   "metadata": {},
   "outputs": [],
   "source": [
    "def get_artist_documents(filename: str) -> list[Document]:\n",
    "  with open(filename) as file:\n",
    "    data = file.read()\n",
    "  songs = data.split(\"===\")\n",
    "  artist = songs.pop(0).strip()\n",
    "  \n",
    "  documents = [\n",
    "    Document(\n",
    "      text=song,\n",
    "      metadata={\n",
    "        \"category\":\"music\",\n",
    "        \"artist\": artist,\n",
    "      }\n",
    "    )\n",
    "    for song in songs\n",
    "  ]    \n",
    "  return documents"
   ]
  },
  {
   "cell_type": "code",
   "execution_count": 3,
   "metadata": {},
   "outputs": [],
   "source": [
    "bts_songs_file = '47923_BTS.txt'\n",
    "\n",
    "lyrics_gotten = get_artist_documents(bts_songs_file)"
   ]
  },
  {
   "cell_type": "code",
   "execution_count": 4,
   "metadata": {},
   "outputs": [],
   "source": [
    "wikipedia.set_lang('es')\n",
    "\n",
    "bts_content = wikipedia.page('BTS').content\n",
    "\n",
    "with open('BTS_info.txt', 'w', encoding='utf-8') as file:\n",
    "  file.write(\"== Nombre ==\\n\")\n",
    "  file.write(bts_content)"
   ]
  },
  {
   "cell_type": "code",
   "execution_count": 5,
   "metadata": {},
   "outputs": [],
   "source": [
    "def get_bts_documents(filename: str) -> list[Document]:\n",
    "  with open(filename, 'r', encoding='utf-8') as file:\n",
    "    data = file.read()\n",
    "  \n",
    "  sections = data.split(\"===\")\n",
    "  sections = [section.strip() for section in sections if section.strip()]\n",
    "  \n",
    "  artist_line = sections.pop(0)\n",
    "  artist = artist_line.split(\"==\")[1].strip() if \"==\" in artist_line else \"BTS\"\n",
    "  \n",
    "  documents = [\n",
    "    Document(\n",
    "      text=section.strip(),\n",
    "      metadata={\n",
    "        \"category\": \"music\",\n",
    "        \"artist\": artist\n",
    "      }\n",
    "    )\n",
    "    for section in sections\n",
    "  ]\n",
    "  \n",
    "  return documents"
   ]
  },
  {
   "cell_type": "code",
   "execution_count": 6,
   "metadata": {},
   "outputs": [],
   "source": [
    "bts_info_documents = get_bts_documents('BTS_info.txt')\n",
    "\n",
    "index = VectorStoreIndex.from_documents(bts_info_documents)\n",
    "\n",
    "query_engine = index.as_query_engine()"
   ]
  },
  {
   "cell_type": "code",
   "execution_count": 7,
   "metadata": {},
   "outputs": [],
   "source": [
    "description = \"\"\"\n",
    "This tool provides information about BTS, including song lyrics and biographical data obtained from Wikipedia.\n",
    "It accepts natural language questions as input.\n",
    "MANDATORY: Provide the response to the user exactly as it is, preserving the format; do not attempt to summarize when using this tool.\n",
    "\"\"\""
   ]
  },
  {
   "cell_type": "code",
   "execution_count": 8,
   "metadata": {},
   "outputs": [],
   "source": [
    "tools = [\n",
    "  QueryEngineTool(\n",
    "    query_engine=query_engine,\n",
    "    metadata=ToolMetadata(\n",
    "      name=\"BTS_Info_and_Lyrics\",\n",
    "      description=description,\n",
    "      return_direct=False\n",
    "    )\n",
    "  )\n",
    "]\n",
    "\n",
    "bts_agent = OpenAIAgent.from_tools(tools=tools, verbose=True)"
   ]
  },
  {
   "cell_type": "code",
   "execution_count": 9,
   "metadata": {},
   "outputs": [
    {
     "name": "stdout",
     "output_type": "stream",
     "text": [
      "Added user message to memory: ¿Puedes describir los temas líricos de BTS?\n",
      "=== Calling Function ===\n",
      "Calling function: BTS_Info_and_Lyrics with args: {\"input\":\"Describe los temas líricos de BTS\"}\n",
      "Got output: BTS aborda una amplia gama de temas en sus letras, incluyendo la salud mental, el deseo de aceptación en la sociedad, la soledad, la depresión, la presión de ser joven y exitoso, la apatía social, la crítica al materialismo, la obsesión de los fanáticos, la disparidad generacional, y la lucha de las minorías. También han tratado temas políticos como la dificultad de los millenials para encontrar empleo y vivienda, así como la crítica a las instituciones y a las generaciones mayores.\n",
      "========================\n",
      "\n",
      "BTS aborda una amplia gama de temas en sus letras, incluyendo la salud mental, el deseo de aceptación en la sociedad, la soledad, la depresión, la presión de ser joven y exitoso, la apatía social, la crítica al materialismo, la obsesión de los fanáticos, la disparidad generacional, y la lucha de las minorías. También han tratado temas políticos como la dificultad de los millenials para encontrar empleo y vivienda, así como la crítica a las instituciones y a las generaciones mayores.\n",
      "Added user message to memory: ¿Cual es el origen de BTS?\n",
      "=== Calling Function ===\n",
      "Calling function: BTS_Info_and_Lyrics with args: {\"input\":\"Origen de BTS\"}\n",
      "Got output: BTS se formó en 2010 después de que el CEO de Big Hit, Bang Si-hyuk, firmara un contrato con RM tras escucharlo rapear. Posteriormente, se unieron el resto de integrantes y la alineación finalizó con Jin, Suga, J-Hope, RM, Jimin, V y Jungkook.\n",
      "========================\n",
      "\n",
      "BTS se formó en 2010 después de que el CEO de Big Hit, Bang Si-hyuk, firmara un contrato con RM tras escucharlo rapear. Posteriormente, se unieron el resto de integrantes y la alineación finalizó con Jin, Suga, J-Hope, RM, Jimin, V y Jungkook.\n"
     ]
    }
   ],
   "source": [
    "response = bts_agent.chat('¿Puedes describir los temas líricos de BTS?')\n",
    "print(response)\n",
    "\n",
    "response = bts_agent.chat('¿Cual es el origen de BTS?')\n",
    "print(response)"
   ]
  },
  {
   "cell_type": "code",
   "execution_count": null,
   "metadata": {},
   "outputs": [],
   "source": []
  }
 ],
 "metadata": {
  "kernelspec": {
   "display_name": "topics_2024",
   "language": "python",
   "name": "python3"
  },
  "language_info": {
   "codemirror_mode": {
    "name": "ipython",
    "version": 3
   },
   "file_extension": ".py",
   "mimetype": "text/x-python",
   "name": "python",
   "nbconvert_exporter": "python",
   "pygments_lexer": "ipython3",
   "version": "3.11.9"
  }
 },
 "nbformat": 4,
 "nbformat_minor": 2
}
