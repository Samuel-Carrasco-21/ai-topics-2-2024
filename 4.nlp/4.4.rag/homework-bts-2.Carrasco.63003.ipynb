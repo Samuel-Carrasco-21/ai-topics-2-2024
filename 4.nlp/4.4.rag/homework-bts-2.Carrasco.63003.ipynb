{
 "cells": [
  {
   "cell_type": "code",
   "execution_count": 1,
   "metadata": {},
   "outputs": [
    {
     "data": {
      "text/plain": [
       "True"
      ]
     },
     "execution_count": 1,
     "metadata": {},
     "output_type": "execute_result"
    }
   ],
   "source": [
    "from dotenv import load_dotenv\n",
    "import openai\n",
    "import os\n",
    "from llama_index.core import (\n",
    "    Settings,\n",
    "    VectorStoreIndex,\n",
    "    SimpleDirectoryReader, \n",
    "    StorageContext,\n",
    "    load_index_from_storage,\n",
    "    Document,\n",
    "    PromptTemplate\n",
    ")\n",
    "load_dotenv()"
   ]
  },
  {
   "cell_type": "code",
   "execution_count": 2,
   "metadata": {},
   "outputs": [
    {
     "data": {
      "application/vnd.jupyter.widget-view+json": {
       "model_id": "afa1ee26583c428889cff5d6d07f2acf",
       "version_major": 2,
       "version_minor": 0
      },
      "text/plain": [
       "modules.json:   0%|          | 0.00/387 [00:00<?, ?B/s]"
      ]
     },
     "metadata": {},
     "output_type": "display_data"
    },
    {
     "data": {
      "application/vnd.jupyter.widget-view+json": {
       "model_id": "f90e6a3b57c345f7b7a2b356a306ed46",
       "version_major": 2,
       "version_minor": 0
      },
      "text/plain": [
       "README.md:   0%|          | 0.00/179k [00:00<?, ?B/s]"
      ]
     },
     "metadata": {},
     "output_type": "display_data"
    },
    {
     "data": {
      "application/vnd.jupyter.widget-view+json": {
       "model_id": "98cc72cc97ce4aa19f26544f2253e630",
       "version_major": 2,
       "version_minor": 0
      },
      "text/plain": [
       "sentence_bert_config.json:   0%|          | 0.00/57.0 [00:00<?, ?B/s]"
      ]
     },
     "metadata": {},
     "output_type": "display_data"
    },
    {
     "data": {
      "application/vnd.jupyter.widget-view+json": {
       "model_id": "423e10e066f14aeeb8bf34f2d2446d73",
       "version_major": 2,
       "version_minor": 0
      },
      "text/plain": [
       "config.json:   0%|          | 0.00/694 [00:00<?, ?B/s]"
      ]
     },
     "metadata": {},
     "output_type": "display_data"
    },
    {
     "data": {
      "application/vnd.jupyter.widget-view+json": {
       "model_id": "efb4c4d172334b32805d09b5b557f0f0",
       "version_major": 2,
       "version_minor": 0
      },
      "text/plain": [
       "model.safetensors:   0%|          | 0.00/1.11G [00:00<?, ?B/s]"
      ]
     },
     "metadata": {},
     "output_type": "display_data"
    },
    {
     "data": {
      "application/vnd.jupyter.widget-view+json": {
       "model_id": "45c163a874c24377bd3e2fd60ebc1888",
       "version_major": 2,
       "version_minor": 0
      },
      "text/plain": [
       "tokenizer_config.json:   0%|          | 0.00/418 [00:00<?, ?B/s]"
      ]
     },
     "metadata": {},
     "output_type": "display_data"
    },
    {
     "data": {
      "application/vnd.jupyter.widget-view+json": {
       "model_id": "1e97380a8d614bd1a9f756b514678d07",
       "version_major": 2,
       "version_minor": 0
      },
      "text/plain": [
       "sentencepiece.bpe.model:   0%|          | 0.00/5.07M [00:00<?, ?B/s]"
      ]
     },
     "metadata": {},
     "output_type": "display_data"
    },
    {
     "data": {
      "application/vnd.jupyter.widget-view+json": {
       "model_id": "dc0868b8036540969c00e97eb692b53b",
       "version_major": 2,
       "version_minor": 0
      },
      "text/plain": [
       "tokenizer.json:   0%|          | 0.00/17.1M [00:00<?, ?B/s]"
      ]
     },
     "metadata": {},
     "output_type": "display_data"
    },
    {
     "data": {
      "application/vnd.jupyter.widget-view+json": {
       "model_id": "5779b0fcfb2b4081b2c40f697fc0991d",
       "version_major": 2,
       "version_minor": 0
      },
      "text/plain": [
       "special_tokens_map.json:   0%|          | 0.00/280 [00:00<?, ?B/s]"
      ]
     },
     "metadata": {},
     "output_type": "display_data"
    },
    {
     "data": {
      "application/vnd.jupyter.widget-view+json": {
       "model_id": "d2c09fdd145e4bdbb2acbf5f2b77ac08",
       "version_major": 2,
       "version_minor": 0
      },
      "text/plain": [
       "1_Pooling/config.json:   0%|          | 0.00/200 [00:00<?, ?B/s]"
      ]
     },
     "metadata": {},
     "output_type": "display_data"
    }
   ],
   "source": [
    "from llama_index.embeddings.huggingface import HuggingFaceEmbedding\n",
    "\n",
    "embed_model = HuggingFaceEmbedding(model_name=\"intfloat/multilingual-e5-base\")\n",
    "Settings.embed_model = embed_model"
   ]
  },
  {
   "cell_type": "code",
   "execution_count": 3,
   "metadata": {},
   "outputs": [],
   "source": [
    "def get_artist_documents(filename: str) -> list[Document]:\n",
    "    with open(filename) as file:\n",
    "        data = file.read()\n",
    "    songs = data.split(\"===\")\n",
    "    artist = songs.pop(0).strip()\n",
    "    \n",
    "    documents = [\n",
    "        Document(\n",
    "            text=song,\n",
    "            metadata={\n",
    "                \"category\":\"music\",\n",
    "                \"artist\": artist,\n",
    "            }\n",
    "        )\n",
    "        for song in songs\n",
    "    ]    \n",
    "    return documents"
   ]
  },
  {
   "cell_type": "code",
   "execution_count": 4,
   "metadata": {},
   "outputs": [],
   "source": [
    "import os\n",
    "PERSIST_DIR = \"lyrics_store2\"\n",
    "\n",
    "if not os.path.exists(PERSIST_DIR):\n",
    "    documents = get_artist_documents(\"47923_BTS.txt\")\n",
    "    index = VectorStoreIndex.from_documents(documents, show_progress=True)\n",
    "    index.storage_context.persist(persist_dir=PERSIST_DIR)\n",
    "else:\n",
    "    storage_context = StorageContext.from_defaults(persist_dir=PERSIST_DIR) \n",
    "    index = load_index_from_storage(storage_context)"
   ]
  },
  {
   "cell_type": "code",
   "execution_count": 5,
   "metadata": {},
   "outputs": [],
   "source": [
    "query_engine = index.as_query_engine()"
   ]
  },
  {
   "cell_type": "code",
   "execution_count": 6,
   "metadata": {},
   "outputs": [],
   "source": [
    "qa_template_str = \"\"\"\n",
    "    You are an expert in K-Pop music, your task is to guide and teach the user \n",
    "    about your field. Answer the user queries only with supported data in your context.\n",
    "    Your context may contain complete lyrics or parts of them in different languages, but\n",
    "    your answer will always be in Spanish. \n",
    "\n",
    "    Context information is below.\n",
    "    ---------------------\n",
    "    {context_str}\n",
    "    ---------------------\n",
    "    Given the context information and not prior knowledge, \n",
    "    answer the query with detailed source information, include direct quotes and use bullet lists in your \n",
    "    answers, in one of the bullets detail the tone/sentiment of the song.\n",
    "    Query: {query_str}\n",
    "    Answer: \n",
    "\"\"\"\n",
    "qa_template = PromptTemplate(qa_template_str)"
   ]
  },
  {
   "cell_type": "code",
   "execution_count": 7,
   "metadata": {},
   "outputs": [],
   "source": [
    "query_engine.update_prompts(\n",
    "    {\"response_synthesizer:text_qa_template\": qa_template}\n",
    ")"
   ]
  },
  {
   "cell_type": "code",
   "execution_count": 8,
   "metadata": {},
   "outputs": [],
   "source": [
    "from llama_index.agent.openai import OpenAIAgent\n",
    "from llama_index.core.tools import QueryEngineTool, ToolMetadata\n",
    "\n",
    "description = \"\"\"\n",
    "A set of lyrics for songs from the Korean Group BTS. \n",
    "Use plain text question as input to the tool. \n",
    "MANDATORY: Pass the response to the user as is, mantaining the format, do not try to summarize when using this tool.\n",
    "\"\"\"\n",
    "tools_lyrics = [\n",
    "    QueryEngineTool(\n",
    "        query_engine=query_engine,\n",
    "        metadata=ToolMetadata(\n",
    "            name=\"BTS_songs_lyrics\",\n",
    "            description=description,\n",
    "            return_direct=False\n",
    "        )\n",
    "    )\n",
    "]\n",
    "agent = OpenAIAgent.from_tools(tools=tools_lyrics, verbose=True)"
   ]
  },
  {
   "cell_type": "code",
   "execution_count": 9,
   "metadata": {},
   "outputs": [
    {
     "name": "stdout",
     "output_type": "stream",
     "text": [
      "Added user message to memory: ¿Qué canciones de BTS hablan de nostalgia?\n",
      "=== Calling Function ===\n",
      "Calling function: BTS_songs_lyrics with args: {\"input\":\"nostalgia\"}\n",
      "Got output: - En la canción \"Bad Decisions\" de BTS, se puede percibir un tono de nostalgia en las siguientes líneas:\n",
      "  - \"And it feels like (Ooh, ah) I can't seem to ever get you out of my mind\"\n",
      "  - \"I want you, ooh, baby, all of the time\"\n",
      "- La canción expresa un sentimiento de añoranza y deseo constante por la persona amada, reflejando una sensación de nostalgia en la letra.\n",
      "========================\n",
      "\n",
      "=== Calling Function ===\n",
      "Calling function: BTS_songs_lyrics with args: {\"input\":\"nostalgia\"}\n",
      "Got output: - La canción \"Bad Decisions\" de BTS no aborda directamente el tema de la nostalgia, pero sí habla sobre el deseo de amor y la toma de decisiones arriesgadas en el presente.\n",
      "- En la canción, se mencionan versos como \"And it feels like I can't seem to ever get you out of my mind\" y \"I want you, ooh, baby, all of the time\", que reflejan un sentimiento de anhelo y deseo constante.\n",
      "- El tono de la canción es sensual y apasionado, con una mezcla de romanticismo y atrevimiento en las letras.\n",
      "========================\n",
      "\n"
     ]
    }
   ],
   "source": [
    "response = agent.chat(\"¿Qué canciones de BTS hablan de nostalgia?\")"
   ]
  },
  {
   "cell_type": "code",
   "execution_count": 10,
   "metadata": {},
   "outputs": [
    {
     "data": {
      "text/plain": [
       "'La canción de BTS que habla de nostalgia es \"Bad Decisions\". En esta canción se puede percibir un tono de añoranza y deseo constante por la persona amada. Algunas líneas que reflejan este sentimiento son: \"And it feels like I can\\'t seem to ever get you out of my mind\" y \"I want you, ooh, baby, all of the time\".'"
      ]
     },
     "execution_count": 10,
     "metadata": {},
     "output_type": "execute_result"
    }
   ],
   "source": [
    "response.response"
   ]
  },
  {
   "cell_type": "code",
   "execution_count": 11,
   "metadata": {},
   "outputs": [
    {
     "name": "stdout",
     "output_type": "stream",
     "text": [
      "Added user message to memory: ¿Qué canciones hablan sobre el amor propio?\n",
      "=== Calling Function ===\n",
      "Calling function: BTS_songs_lyrics with args: {\"input\":\"self-love\"}\n",
      "Got output: - La canción \"Outro: Luv In Skool\" de BTS aborda el tema del amor propio y la autoaceptación.\n",
      "- En la letra se mencionan frases como \"I just wanna love ya\" y \"Me amo a mí mismo\", que reflejan la importancia de valorarse a uno mismo.\n",
      "- Se hace referencia a la idea de conocerse a uno mismo y amarse tal como se es.\n",
      "- El tono de la canción es positivo y empoderador, animando a los oyentes a amarse a sí mismos y a no dejarse influenciar por los haters.\n",
      "========================\n",
      "\n",
      "=== Calling Function ===\n",
      "Calling function: BTS_songs_lyrics with args: {\"input\":\"self-love\"}\n",
      "Got output: - La canción \"Outro: Luv In Skool\" de BTS aborda el tema del amor propio y la autoaceptación.\n",
      "- En la letra se mencionan frases como \"I just wanna love ya\" y \"Me amo a mí mismo\", que reflejan la importancia de valorarse a uno mismo.\n",
      "- El verso \"Me amo, me amo, me amo a mí mismo\" enfatiza la idea de reconocerse y aceptarse tal como uno es.\n",
      "- El tono de la canción es positivo y empoderador, animando a los oyentes a amarse a sí mismos y a no dejarse afectar por los haters.\n",
      "========================\n",
      "\n"
     ]
    }
   ],
   "source": [
    "response = agent.chat(\"¿Qué canciones hablan sobre el amor propio?\")"
   ]
  },
  {
   "cell_type": "code",
   "execution_count": null,
   "metadata": {},
   "outputs": [],
   "source": []
  },
  {
   "cell_type": "markdown",
   "metadata": {},
   "source": [
    "### TAREA 15-10-2024"
   ]
  },
  {
   "cell_type": "code",
   "execution_count": 12,
   "metadata": {},
   "outputs": [
    {
     "data": {
      "text/plain": [
       "True"
      ]
     },
     "execution_count": 12,
     "metadata": {},
     "output_type": "execute_result"
    }
   ],
   "source": [
    "import wikipedia\n",
    "from llama_index.core import Document, VectorStoreIndex\n",
    "from llama_index.agent.openai import OpenAIAgent\n",
    "from llama_index.core.tools import QueryEngineTool, ToolMetadata\n",
    "from dotenv import load_dotenv\n",
    "load_dotenv()"
   ]
  },
  {
   "cell_type": "code",
   "execution_count": 13,
   "metadata": {},
   "outputs": [],
   "source": [
    "def get_artist_documents(filename: str) -> list[Document]:\n",
    "  with open(filename) as file:\n",
    "    data = file.read()\n",
    "  songs = data.split(\"===\")\n",
    "  artist = songs.pop(0).strip()\n",
    "  \n",
    "  documents = [\n",
    "    Document(\n",
    "      text=song,\n",
    "      metadata={\n",
    "        \"category\":\"music\",\n",
    "        \"artist\": artist,\n",
    "      }\n",
    "    )\n",
    "    for song in songs\n",
    "  ]    \n",
    "  return documents"
   ]
  },
  {
   "cell_type": "code",
   "execution_count": 14,
   "metadata": {},
   "outputs": [],
   "source": [
    "bts_songs_file = '47923_BTS.txt'\n",
    "\n",
    "lyrics_gotten = get_artist_documents(bts_songs_file)"
   ]
  },
  {
   "cell_type": "code",
   "execution_count": 15,
   "metadata": {},
   "outputs": [],
   "source": [
    "wikipedia.set_lang('es')\n",
    "\n",
    "bts_content = wikipedia.page('BTS').content\n",
    "\n",
    "with open('BTS_info.txt', 'w', encoding='utf-8') as file:\n",
    "  file.write(\"== Nombre ==\\n\")\n",
    "  file.write(bts_content)"
   ]
  },
  {
   "cell_type": "code",
   "execution_count": 16,
   "metadata": {},
   "outputs": [],
   "source": [
    "def get_bts_documents(filename: str) -> list[Document]:\n",
    "  with open(filename, 'r', encoding='utf-8') as file:\n",
    "    data = file.read()\n",
    "  \n",
    "  sections = data.split(\"===\")\n",
    "  sections = [section.strip() for section in sections if section.strip()]\n",
    "  \n",
    "  artist_line = sections.pop(0)\n",
    "  artist = artist_line.split(\"==\")[1].strip() if \"==\" in artist_line else \"BTS\"\n",
    "  \n",
    "  documents = [\n",
    "    Document(\n",
    "      text=section.strip(),\n",
    "      metadata={\n",
    "        \"category\": \"music\",\n",
    "        \"artist\": artist\n",
    "      }\n",
    "    )\n",
    "    for section in sections\n",
    "  ]\n",
    "  \n",
    "  return documents"
   ]
  },
  {
   "cell_type": "code",
   "execution_count": 17,
   "metadata": {},
   "outputs": [],
   "source": [
    "bts_info_documents = get_bts_documents('BTS_info.txt')\n",
    "\n",
    "index = VectorStoreIndex.from_documents(bts_info_documents)\n",
    "\n",
    "query_engine = index.as_query_engine()"
   ]
  },
  {
   "cell_type": "code",
   "execution_count": 18,
   "metadata": {},
   "outputs": [],
   "source": [
    "description = \"\"\"\n",
    "This tool provides information about BTS, including song lyrics and biographical data obtained from Wikipedia.\n",
    "It accepts natural language questions as input.\n",
    "MANDATORY: Provide the response to the user exactly as it is, preserving the format; do not attempt to summarize when using this tool.\n",
    "\"\"\""
   ]
  },
  {
   "cell_type": "code",
   "execution_count": 19,
   "metadata": {},
   "outputs": [],
   "source": [
    "tools_wiki = [\n",
    "  QueryEngineTool(\n",
    "    query_engine=query_engine,\n",
    "    metadata=ToolMetadata(\n",
    "      name=\"BTS_Info_and_Lyrics\",\n",
    "      description=description,\n",
    "      return_direct=False\n",
    "    )\n",
    "  )\n",
    "]\n",
    "\n",
    "bts_agent = OpenAIAgent.from_tools(tools=tools_wiki + tools_lyrics, verbose=True)"
   ]
  },
  {
   "cell_type": "code",
   "execution_count": 20,
   "metadata": {},
   "outputs": [
    {
     "name": "stdout",
     "output_type": "stream",
     "text": [
      "Added user message to memory: ¿Puedes describir los temas líricos de BTS?\n",
      "=== Calling Function ===\n",
      "Calling function: BTS_Info_and_Lyrics with args: {\"input\":\"Describe the lyrical themes of BTS\"}\n",
      "Got output: The lyrical themes of BTS often revolve around self-reflection, mental health, youth empowerment, social issues, and the journey of self-discovery. Their songs frequently touch on topics like personal growth, following dreams, love, friendship, and the pressures faced by young people in today's society.\n",
      "========================\n",
      "\n",
      "Los temas líricos de BTS suelen girar en torno a la autorreflexión, la salud mental, el empoderamiento de la juventud, problemas sociales y el viaje de autodescubrimiento. Sus canciones a menudo abordan temas como el crecimiento personal, seguir los sueños, el amor, la amistad y las presiones que enfrentan los jóvenes en la sociedad actual.\n",
      "Added user message to memory: ¿Cual es el origen de BTS?\n",
      "=== Calling Function ===\n",
      "Calling function: BTS_Info_and_Lyrics with args: {\"input\":\"Origin of BTS\"}\n",
      "Got output: South Korea\n",
      "========================\n",
      "\n",
      "BTS se originó en Corea del Sur.\n"
     ]
    }
   ],
   "source": [
    "response = bts_agent.chat('¿Puedes describir los temas líricos de BTS?')\n",
    "print(response)\n",
    "\n",
    "response = bts_agent.chat('¿Cual es el origen de BTS?')\n",
    "print(response)"
   ]
  },
  {
   "cell_type": "code",
   "execution_count": null,
   "metadata": {},
   "outputs": [],
   "source": []
  },
  {
   "cell_type": "code",
   "execution_count": 21,
   "metadata": {},
   "outputs": [
    {
     "name": "stdout",
     "output_type": "stream",
     "text": [
      "* Running on local URL:  http://127.0.0.1:7860\n",
      "\n",
      "To create a public link, set `share=True` in `launch()`.\n"
     ]
    },
    {
     "data": {
      "text/html": [
       "<div><iframe src=\"http://127.0.0.1:7860/\" width=\"100%\" height=\"500\" allow=\"autoplay; camera; microphone; clipboard-read; clipboard-write;\" frameborder=\"0\" allowfullscreen></iframe></div>"
      ],
      "text/plain": [
       "<IPython.core.display.HTML object>"
      ]
     },
     "metadata": {},
     "output_type": "display_data"
    },
    {
     "data": {
      "text/plain": []
     },
     "execution_count": 21,
     "metadata": {},
     "output_type": "execute_result"
    },
    {
     "name": "stdout",
     "output_type": "stream",
     "text": [
      "Added user message to memory: Puedes darme un resumen de la historia del origen de BTS?\n",
      "=== Calling Function ===\n",
      "Calling function: BTS_Info_and_Lyrics with args: {\"input\":\"Summary of the origin story of BTS\"}\n",
      "Got output: BTS, a music group consisting of seven members, originated in South Korea. The group's journey began with their debut in 2013 under Big Hit Entertainment. Over the years, BTS has gained international recognition for their music, performances, and philanthropic efforts. Their discography includes albums like \"Dark & Wild,\" \"Love Yourself: Tear,\" and \"Map of the Soul: 7.\" BTS has embarked on various successful tours worldwide, such as \"The Wings Tour\" and \"Love Yourself World Tour.\" The group's popularity continues to grow, making them a global phenomenon in the music industry.\n",
      "========================\n",
      "\n"
     ]
    }
   ],
   "source": [
    "import gradio as gr\n",
    "\n",
    "def very_wise_response(message, history):\n",
    "  return bts_agent.chat(message).response\n",
    "\n",
    "demo = gr.ChatInterface(very_wise_response, type=\"messages\")\n",
    "\n",
    "demo.launch()"
   ]
  },
  {
   "cell_type": "code",
   "execution_count": null,
   "metadata": {},
   "outputs": [],
   "source": []
  }
 ],
 "metadata": {
  "kernelspec": {
   "display_name": "topics_2024",
   "language": "python",
   "name": "python3"
  },
  "language_info": {
   "codemirror_mode": {
    "name": "ipython",
    "version": 3
   },
   "file_extension": ".py",
   "mimetype": "text/x-python",
   "name": "python",
   "nbconvert_exporter": "python",
   "pygments_lexer": "ipython3",
   "version": "3.11.9"
  }
 },
 "nbformat": 4,
 "nbformat_minor": 2
}
