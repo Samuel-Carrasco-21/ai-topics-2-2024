{
 "cells": [
  {
   "cell_type": "code",
   "execution_count": 5,
   "metadata": {},
   "outputs": [
    {
     "data": {
      "text/plain": [
       "True"
      ]
     },
     "execution_count": 5,
     "metadata": {},
     "output_type": "execute_result"
    }
   ],
   "source": [
    "from dotenv import load_dotenv\n",
    "import os\n",
    "\n",
    "load_dotenv()"
   ]
  },
  {
   "cell_type": "code",
   "execution_count": 6,
   "metadata": {},
   "outputs": [],
   "source": [
    "from openai import OpenAI\n",
    "\n",
    "client = OpenAI()"
   ]
  },
  {
   "cell_type": "code",
   "execution_count": 9,
   "metadata": {},
   "outputs": [],
   "source": [
    "completion = client.chat.completions.create(\n",
    "  model=\"gpt-4o-mini\",\n",
    "  messages=[\n",
    "    {\n",
    "      \"role\": \"system\",\n",
    "      \"content\": \"es un desarrollador de software senior con 10 años de experiencia dentro del campo de tic\",\n",
    "    },\n",
    "    {\n",
    "      \"role\": \"user\",\n",
    "      \"content\": \"que es maria db\"\n",
    "    },\n",
    "  ]\n",
    ")"
   ]
  },
  {
   "cell_type": "code",
   "execution_count": 10,
   "metadata": {},
   "outputs": [
    {
     "name": "stdout",
     "output_type": "stream",
     "text": [
      "ChatCompletionMessage(content='MariaDB es un sistema de gestión de bases de datos relacional (RDBMS) de código abierto que se basa en MySQL. Fue creado por uno de los fundadores de MySQL, Michael \"Monty\" Widenius, como respuesta a la preocupación sobre el futuro de MySQL después de que Oracle Corporation adquiriera MySQL AB. MariaDB se diseñó para ser totalmente compatible con MySQL, lo que significa que, en muchos casos, puedes intercambiar entre ambos sin necesidad de realizar cambios significativos en el código o en la estructura de la base de datos.\\n\\n### Características de MariaDB:\\n\\n1. **Compatibilidad**: MariaDB es generalmente compatible con MySQL en términos de comandos y API, lo que hace que la migración sea más sencilla para usuarios de MySQL.\\n\\n2. **Rendimiento**: Incluye mejoras en el rendimiento en comparación con MySQL, debido a la introducción de nuevos motores de almacenamiento y optimizaciones en la ejecución de consultas.\\n\\n3. **Nuevos motores de almacenamiento**: MariaDB ofrece múltiples motores de almacenamiento, incluyendo Aria, XtraDB y TokuDB, lo que permite a los usuarios elegir el que mejor se adapte a sus necesidades.\\n\\n4. **Caracteres y modos de almacenamiento**: Aparte de los motores de almacenamiento, MariaDB también ofrece características como las tablas virtuales, índices de texto completo y particionamiento de tablas, entre otros.\\n\\n5. **Comunidad activa**: Al ser un proyecto de código abierto, tiene una comunidad activa que contribuye a su desarrollo y mejora continua, lo que resulta en actualizaciones frecuentes y nuevas características.\\n\\n6. **Seguridad**: Incluye características mejoradas de seguridad, como un mejor cifrado y autenticación, para proteger los datos del usuario.\\n\\n7. **Facilidad de uso**: Proporciona herramientas y interfaces que facilitan la administración y el desarrollo, como el cliente de línea de comandos y herramientas gráficas.\\n\\nMariaDB es utilizado por muchas organizaciones en todo el mundo y se ha convertido en una opción popular entre los desarrolladores de software y administradores de bases de datos en entornos de producción.', refusal=None, role='assistant', function_call=None, tool_calls=None)\n"
     ]
    }
   ],
   "source": [
    "print(completion.choices[0].message)"
   ]
  },
  {
   "cell_type": "code",
   "execution_count": null,
   "metadata": {},
   "outputs": [],
   "source": []
  }
 ],
 "metadata": {
  "kernelspec": {
   "display_name": "topics_2024",
   "language": "python",
   "name": "python3"
  },
  "language_info": {
   "codemirror_mode": {
    "name": "ipython",
    "version": 3
   },
   "file_extension": ".py",
   "mimetype": "text/x-python",
   "name": "python",
   "nbconvert_exporter": "python",
   "pygments_lexer": "ipython3",
   "version": "3.11.9"
  }
 },
 "nbformat": 4,
 "nbformat_minor": 2
}
