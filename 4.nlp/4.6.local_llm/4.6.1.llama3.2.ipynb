{
 "cells": [
  {
   "cell_type": "code",
   "execution_count": 1,
   "metadata": {},
   "outputs": [],
   "source": [
    "import os\n",
    "from llama_index.llms.ollama import Ollama\n",
    "from llama_index.core import Settings, Document, VectorStoreIndex, StorageContext, load_index_from_storage, PromptTemplate\n",
    "from llama_index.embeddings.huggingface import HuggingFaceEmbedding\n",
    "# from llama_index.agent.openai import OpenAIAgent\n",
    "from llama_index.core.agent import ReActAgent\n",
    "from llama_index.core.tools import QueryEngineTool, FunctionTool, ToolMetadata\n"
   ]
  },
  {
   "cell_type": "code",
   "execution_count": 2,
   "metadata": {},
   "outputs": [
    {
     "data": {
      "application/vnd.jupyter.widget-view+json": {
       "model_id": "dc6bbcec003f4d41ae32f97e80ba3b42",
       "version_major": 2,
       "version_minor": 0
      },
      "text/plain": [
       "modules.json:   0%|          | 0.00/387 [00:00<?, ?B/s]"
      ]
     },
     "metadata": {},
     "output_type": "display_data"
    },
    {
     "data": {
      "application/vnd.jupyter.widget-view+json": {
       "model_id": "a71be552c03c4991a0e4e6c41bd739a9",
       "version_major": 2,
       "version_minor": 0
      },
      "text/plain": [
       "README.md:   0%|          | 0.00/179k [00:00<?, ?B/s]"
      ]
     },
     "metadata": {},
     "output_type": "display_data"
    },
    {
     "data": {
      "application/vnd.jupyter.widget-view+json": {
       "model_id": "04b0c7fabf494356975539e7339b2dc3",
       "version_major": 2,
       "version_minor": 0
      },
      "text/plain": [
       "sentence_bert_config.json:   0%|          | 0.00/57.0 [00:00<?, ?B/s]"
      ]
     },
     "metadata": {},
     "output_type": "display_data"
    },
    {
     "data": {
      "application/vnd.jupyter.widget-view+json": {
       "model_id": "57c85c731acc4bbb826f901fe604a385",
       "version_major": 2,
       "version_minor": 0
      },
      "text/plain": [
       "config.json:   0%|          | 0.00/694 [00:00<?, ?B/s]"
      ]
     },
     "metadata": {},
     "output_type": "display_data"
    },
    {
     "data": {
      "application/vnd.jupyter.widget-view+json": {
       "model_id": "0fadbd127337482281330253c9b124c9",
       "version_major": 2,
       "version_minor": 0
      },
      "text/plain": [
       "model.safetensors:   0%|          | 0.00/1.11G [00:00<?, ?B/s]"
      ]
     },
     "metadata": {},
     "output_type": "display_data"
    },
    {
     "data": {
      "application/vnd.jupyter.widget-view+json": {
       "model_id": "69f0def294454b7585a4d576f712ee9f",
       "version_major": 2,
       "version_minor": 0
      },
      "text/plain": [
       "tokenizer_config.json:   0%|          | 0.00/418 [00:00<?, ?B/s]"
      ]
     },
     "metadata": {},
     "output_type": "display_data"
    },
    {
     "data": {
      "application/vnd.jupyter.widget-view+json": {
       "model_id": "32d2011c6c5341578988f590a3a16eed",
       "version_major": 2,
       "version_minor": 0
      },
      "text/plain": [
       "sentencepiece.bpe.model:   0%|          | 0.00/5.07M [00:00<?, ?B/s]"
      ]
     },
     "metadata": {},
     "output_type": "display_data"
    },
    {
     "data": {
      "application/vnd.jupyter.widget-view+json": {
       "model_id": "c0e9387b6fd7476b9cc03e2cd8853bae",
       "version_major": 2,
       "version_minor": 0
      },
      "text/plain": [
       "tokenizer.json:   0%|          | 0.00/17.1M [00:00<?, ?B/s]"
      ]
     },
     "metadata": {},
     "output_type": "display_data"
    },
    {
     "data": {
      "application/vnd.jupyter.widget-view+json": {
       "model_id": "82554bf4ec6b4fcfb0d5f286f4a85a4d",
       "version_major": 2,
       "version_minor": 0
      },
      "text/plain": [
       "special_tokens_map.json:   0%|          | 0.00/280 [00:00<?, ?B/s]"
      ]
     },
     "metadata": {},
     "output_type": "display_data"
    },
    {
     "data": {
      "application/vnd.jupyter.widget-view+json": {
       "model_id": "1546ab629fd24b3f9c232aac55b812e5",
       "version_major": 2,
       "version_minor": 0
      },
      "text/plain": [
       "1_Pooling/config.json:   0%|          | 0.00/200 [00:00<?, ?B/s]"
      ]
     },
     "metadata": {},
     "output_type": "display_data"
    }
   ],
   "source": [
    "llm = Ollama(model=\"gemma2\", request_timeout=120.0, base_url=\"https://workstation.tail5ac87b.ts.net\", verbose=True)\n",
    "embed_model = HuggingFaceEmbedding(model_name=\"intfloat/multilingual-e5-base\")\n",
    "\n",
    "Settings.llm = llm\n",
    "Settings.embed_model = embed_model"
   ]
  },
  {
   "cell_type": "code",
   "execution_count": 3,
   "metadata": {},
   "outputs": [],
   "source": [
    "def get_artist_documents(filename: str) -> list[Document]:\n",
    "    with open(filename) as file:\n",
    "        data = file.read()\n",
    "    songs = data.split(\"===\")\n",
    "    artist = songs.pop(0).strip()\n",
    "    \n",
    "    documents = [\n",
    "        Document(\n",
    "            text=song,\n",
    "            metadata={\n",
    "                \"category\":\"music\",\n",
    "                \"artist\": artist,\n",
    "            }\n",
    "        )\n",
    "        for song in songs\n",
    "    ]    \n",
    "    return documents"
   ]
  },
  {
   "cell_type": "code",
   "execution_count": 4,
   "metadata": {},
   "outputs": [],
   "source": [
    "PERSIST_DIR = \"lyrics_store\"\n",
    "\n",
    "if not os.path.exists(PERSIST_DIR):\n",
    "    documents = get_artist_documents(\"8988_Kjarkas.txt\")\n",
    "    index = VectorStoreIndex.from_documents(documents, show_progress=True)\n",
    "    index.storage_context.persist(persist_dir=PERSIST_DIR)\n",
    "else:\n",
    "    storage_context = StorageContext.from_defaults(persist_dir=PERSIST_DIR) \n",
    "    index = load_index_from_storage(storage_context)"
   ]
  },
  {
   "cell_type": "code",
   "execution_count": 5,
   "metadata": {},
   "outputs": [],
   "source": [
    "lyrics_query_engine = index.as_query_engine()\n",
    "qa_template_str = \"\"\"\n",
    "    You are an expert in Bolivian Folk music, your task is to guide and teach the user \n",
    "    about your field. Answer the user queries only with supported data in your context.\n",
    "    Your context may contain complete lyrics or parts of them in different languages, but\n",
    "    your answer will always be in Spanish. \n",
    "\n",
    "    Context information is below.\n",
    "    ---------------------\n",
    "    {context_str}\n",
    "    ---------------------\n",
    "    Given the context information and not prior knowledge, \n",
    "    answer the query with detailed source information, include direct quotes and use bullet lists in your \n",
    "    answers, in one of the bullets detail the tone/sentiment of the song.\n",
    "    Notes:\n",
    "    Whenever the user asks for a specific song lyrics, only retrieve the lyrics with no tone/sentiment added.\n",
    "    Query: {query_str}\n",
    "    Answer: \n",
    "\"\"\"\n",
    "qa_template = PromptTemplate(qa_template_str)\n",
    "lyrics_query_engine.update_prompts(\n",
    "    {\"response_synthesizer:text_qa_template\": qa_template}\n",
    ")"
   ]
  },
  {
   "cell_type": "code",
   "execution_count": 155,
   "metadata": {},
   "outputs": [],
   "source": []
  },
  {
   "cell_type": "code",
   "execution_count": 8,
   "metadata": {},
   "outputs": [
    {
     "name": "stdout",
     "output_type": "stream",
     "text": [
      "Los Kjarkas  es un conjunto de música folklórica originado en Capinota, Cochabamba, Bolivia. Fue fundado el 23 de junio de 1971 por los hermanos Wilson Hermosa[1]​, Gonzalo Hermosa, Castel Hermosa[2]​ y Edgar Villaroel. Alcanzaron popularidad nacional e internacional junto a los compositores: Ulises Hermosa[3]​, Élmer Hermosa, Edgar Villaroel, Edwin Castellanos, Fernando Torrico, Gastón Guardia y Guillermo Ponce.\n",
      "Section: Origen del nombre (1):\n",
      "El nombre significa \"kjarka = nada, sin afinar\". Así se sentía el grupo en sus comienzos; buscaron establecer una comparación entre un instrumento sin ajustar y la situación inicial del conjunto musical.\n",
      "Subsections (0):\n",
      "\n",
      "Section: Historia (1):\n",
      "En principio Los Kjarkas surgió como una necesidad económica para sus integrantes, yendo de pueblo en pueblo tocando zamba argentina, pues la música autóctona de Bolivia aun no tenía demasiada repercusión. Sin embargo, poco a poco, diversas peñas comenzaron a hacer énfasis en ritmos más propios del país como la cueca, huayño o bailecito de compositores como Simeón Roncal, Gilberto Rojas o Teófilo Vargas. Es en estos años cuando Los Kjarkas toman parte en esa transformación y forjan sus cimientos musicales que más tarde les darían éxito.\n",
      "Tras esos inicios, los integrantes abandonan el grupo y Gonzalo Hermosa refunda el grupo con los músicos Eddy Carpio, Antonio Canelas y Alcides Mejía, y durante más de 10 años Los Kjarkas se van perfeccionando en la composición e interpretación de la música andina.[4]​ Se presentan en La Paz por primera vez en 1975 tras tocar en fiestas privadas. Ese mismo año representaron a su país en el festival de música folklórica de Brasil.\n",
      "Fue a través de José “Danger” Salamanca que Alcides Mejia conoció a los hermanos Hermosa: Elmer, Ulises y Gonzalo. Los hermanos mayores Wilson, Castel, Gonzalo y Edgar, integraban el grupo Kjarkas inicial, los que regresando de su viaje a Chile, decidieron deshacer Kjarkas, quedando desarticulados  por mucho tiempo.\n",
      "Alcides fue participante y cofundador de la 1.ª Restructuración de Kjarkas, en el año 1974 junto Ulises y Elmer.\n",
      "Durante algunos años, Los Kjarkas se dedican a perfeccionar un estilo de música propio, adaptando ritmos autóctonos a la estructura musical de ritmos criollos, dando prioridad a las intervenciones de instrumentos de viento y de ronroco, con arreglos corales. Es así que en 1975 se presentan en La Paz y empiezan a grabar al año siguiente su primer disco.\n",
      "Integrantes: Ulises Hermosa, Élmer Hermosa, Alcides Mejia, José Antonio Canelas y Edgar Villarroel. Terminada la grabación, Alcides Mejia dejó el grupo por un desacuerdo con Ulises y Elmer basado en la voluntad de éstos de continuar con sus estudios.\n",
      "En el año 1976 publican en México su primer álbum “Bolivia” con el sello discográfico Heriba. Consta de 9 canciones, casi todas ellas compuestas por Gonzalo Hermosa, entre las cuales se encuentra “Bolivia”, canción que alcanzó gran popularidad.\n",
      "Con el éxito ya ganado el grupo se nutre de otros dos hermanos Hermosa: Ulises y Élmer, Toño Canelas, Gastón Guardia, Guillermo Ponce y Édgar Villarroel (homónimo del fundador).\n",
      "En 1977 y 1978 llegan dos álbumes publicados bajo el nombre de Fortaleza (por restricciones contractuales) con canciones de raíces folklóricas y que más tarde, en 1995, serían reeditados en un solo CD con el nombre de “Sueño milenario de los Andes”. De la misma manera 1979 el disco \"Kutimuy\" sale a la luz destacando el tema que lleva el mismo nombre, iniciando la nueva generación y renacer de los kjarkas de la mano de Élmer Hermosa, Julio Lavayen, Ulises Hermosa y Gastón Guardia. El grupo se fue haciendo más popular, organizando giras no sólo por Bolivia, sino por toda Sudamérica, Europa, Estados Unidos y Japón.\n",
      "En 1980 publican “Cóndor Mallku”. El disco incluye canciones de índole románticas, marcando un alejamiento del folklore tradicional.\n",
      "En 1981 con el disco \"Canto a la mujer de mi pueblo\" llegan las canciones más icónicas y populares de la agrupación como \"Wayayay\" y «Llorando se fue» teniendo como participación en el charango a Gonzalo Hermosa, debido al alejamiento de Julio Lavayen. Tiempo después se reincorpora al grupo Julio Lavayen en el Charango, Ramiro de la Zerda en guitarra y Raúl Muriel en los instrumentos de viento en el álbum “Desde el alma de mi pueblo”, con participación en la canción \"Sunchu t'ikitay\".\n",
      "En 1984 Los Kjarkas fueron invitados al X Festival de Yamaha de la Canción donde competían más de 1800 canciones de todo el mundo para el primer premio. La composición de Ulises Hermosa “Florcita azul” quedó en el décimo lugar. Este evento abrió a Los Kjarkas al mercado japonés.[5]​\n",
      "A finales de los 80 un incidente dio a Los Kjarkas una fama y repercusión mundial mayor. El grupo Kaoma lanzó la canción «Chorando se foi», o la «Lambada», que se bailaba a ritmo caribeño. La canción resultó ser un plagio de «Llorando se fue», la composición de Ulises Hermosa, editada en 1984 a ritmo de saya caporal. Esta canción estaba registrada en Alemania y por ello Kaoma tuvo que indemnizar a Los Kjarkas con una suma de dinero que no se hizo pública.\n",
      "Hicieron paso por la agrupación los músicos Edwin Castellanos y Fernando Torrico, que más tarde abandonarían el grupo para formar el dúo Tupay.\n",
      "En 1990 editan el único álbum en el que no cantan, titulado “Ch’uwa yacu”. En 1992 el grupo se vio fuertemente resentido por la enfermedad del compositor Ulises Hermosa. Tras viajar a Estados Unidos, muere de un cáncer en Houston. Antes de morir concluyó su canción “El árbol de mi destino”. Al año siguiente Los Kjarkas publican el disco “Hermanos”, que incluye la composición del desaparecido Ulises “Tarajchi” pero con letra añadida por su hermano Gonzalo, que describe la historia y sentires de la familia Hermosa.\n",
      "En los años 90 se incorporaron al grupo Ronaldo Malpartida, Eduardo Yáñez, Alcídes Mejía, Miguel Mengoa y José Luis Morales. Siguieron cosechando éxitos como “Señora su hija”, “Mi pecado”, “Ave de cristal”, “A los 500 años”, “La pícara” y “El líder de los humildes”.\n",
      "En 1997 Los Kjarkas publican su primer vídeo “Por siempre…” en el que se televisa la presentación del disco en el Hotel Presidente.\n",
      "El nuevo milenio trae importantes cambios en Los Kjarkas, el grupo se rejuvenece con nuevos y jóvenes artistas: Gonzalo Hermosa Jr. Lin Angulo y el japonés Makoto Shishido. Ello da un nuevo enfoque a las composiciones como “Lección de vida”, “Saya sensual”, “Kamanchaca” etc. En el año 2006 Los Kjarkas publican su último disco hasta el momento “35 años” que conmemora el aniversario de la aparición del grupo. En 2016 Los Kjarkas publican su disco \"La Leyenda Viva\", en conmemoración de sus 45 Años de carrera artística.\n",
      "En 1995 Alcides es llamado a formar parte de la 2.ª restructuración de Kjarkas, puesto que el Proyecto “Pacha” tomó el tiempo de Elmer, Gastón, Edwin y Fernando, dejando en un largo receso de 1 año a Kjarkas, (tiempo y estrategia que usó Gonzalo Hermosa para sacar del grupo a Fernando Torrico y Edwin Castellanos), para luego al finalizar el Proyecto “Pacha” sólo Gastón y Elmer volvieran a reintegrarse al grupo. Fue un trabajo de más de 1 año, preparando el terreno para el relanzamiento y nueva restructuración de Kjarkas, además de preparar el repertorio tanto para el concierto, así como para el Álbum 25 Aniversario: “Kjarkas por Siempre” los que fueron realizados en la ciudad de La Paz Bolivia.\n",
      "Integrantes: Rolando Malpartida, Elmer Hermosa, Alcides Mejia, Gastón Guardia, Eduardo Yáñez y Gonzalo Hermosa\n",
      "“Kjarkas por Siempre” Álbum grabado en los Estudios Discolandia para el sello RCA en La Paz, Bolivia, en 1996 técnico: Fredy Roca\n",
      "Luego de más de 2 años de giras, ensayos, viajes, grabaciones, filmaciones y entrevistas.\n",
      "Subsections (0):\n",
      "\n"
     ]
    }
   ],
   "source": [
    "import wikipediaapi\n",
    "\n",
    "def get_artist_wikipedia_info(artist: str) -> str:\n",
    "    \"\"\"\n",
    "        Useful for getting artist information from wikipedia\n",
    "        Use plain text as input to the tool, this should be the name of an artist or a band.\n",
    "        The output of this tool is the summary of the wikipedia page corresponding to the artist.\n",
    "    \"\"\"\n",
    "    wiki = wikipediaapi.Wikipedia(\"Test Wikipedia (eduardo.laruta@gmail.com)\", \"es\")\n",
    "    page = wiki.page(artist)\n",
    "    if not page.exists():\n",
    "        return f\"Wikipedia page for {artist} does not exist\"\n",
    "    # print(\"====\")\n",
    "    # print(page.sections[0])\n",
    "    # print(\"====\")\n",
    "    return f\"{page.summary}\\n{page.sections[0]}\\n{page.sections[1]}\"\n",
    "\n",
    "print(get_artist_wikipedia_info(\"Kjarkas\"))\n"
   ]
  },
  {
   "cell_type": "code",
   "execution_count": 52,
   "metadata": {},
   "outputs": [],
   "source": [
    "lyrics_description = \"\"\"\n",
    "A set of all the lyrics of the songs from the Bolivian Folk Group Los Kjarkas. \n",
    "Use plain text question as input to the tool.\n",
    "MANDATORY: Pass the response to the user as is, mantaining the format, do not try to summarize when using this tool. Also, you'll need\n",
    "to use as much as you can the data you've gotten from wikipedia, and also the data you had before search on wikipedia. Finally,\n",
    "you have to rememeber exactly the past answers, to be able to give the new answer if information that you gave before is part of\n",
    "the answer. Or in other words, be like ChatGPT (GTP-3.5)\n",
    "\"\"\"\n",
    "\n",
    "tools = [\n",
    "    QueryEngineTool(\n",
    "        query_engine=lyrics_query_engine,\n",
    "        metadata=ToolMetadata(\n",
    "            name=\"Kjarkas_songs_lyrics\",\n",
    "            description=lyrics_description,\n",
    "            return_direct=False\n",
    "        )\n",
    "    ),\n",
    "    FunctionTool.from_defaults(get_artist_wikipedia_info)\n",
    "]\n",
    "agent = ReActAgent.from_tools(tools, verbose=True)\n",
    "\n",
    "from llama_index.core import PromptTemplate\n",
    "agent_prompt_text = \"\"\"\n",
    "  You are an expert in Kjarkas Folk music, your task is to guide and teach the user \n",
    "  about your field as much as you can. To do that, you'll have to use the full context. Answer the user queries only with supported data in your context.\n",
    "  Your context may contain complete lyrics or parts of them in different languages, but\n",
    "  your answer will always be in Spanish. \n",
    "\n",
    "  Context information is below.\n",
    "  ---------------------\n",
    "  {context_str}\n",
    "  ---------------------\n",
    "  Given the context information and not prior knowledge, \n",
    "  answer the query with detailed source information, include direct quotes and use bullet lists in your \n",
    "  answers, in one of the bullets detail the tone/sentiment of the song.\n",
    "  Notes:\n",
    "  Whenever the user asks for a specific song lyrics, only retrieve the lyrics with no tone/sentiment added.\n",
    "  Query: {query_str}\n",
    "  Answer: \n",
    "\"\"\"\n",
    "agent_promt_tpl = PromptTemplate(agent_prompt_text)\n",
    "agent.update_prompts({\"agent_worker:system_prompt\": agent_promt_tpl})"
   ]
  },
  {
   "cell_type": "code",
   "execution_count": null,
   "metadata": {},
   "outputs": [],
   "source": []
  },
  {
   "cell_type": "code",
   "execution_count": 53,
   "metadata": {},
   "outputs": [
    {
     "name": "stdout",
     "output_type": "stream",
     "text": [
      "> Running step d0de38bf-f0b4-4e53-a93d-8cbc4f2903d3. Step input: quienes son los kjarkas?\n",
      "\u001b[1;3;38;5;200mThought: The current language of the user is: spanish. I need to use a tool to help me answer the question.\n",
      "Action: get_artist_wikipedia_info\n",
      "Action Input: {'artist': 'Los Kjarkas'}\n",
      "\u001b[0m\u001b[1;3;34mObservation: Los Kjarkas  es un conjunto de música folklórica originado en Capinota, Cochabamba, Bolivia. Fue fundado el 23 de junio de 1971 por los hermanos Wilson Hermosa[1]​, Gonzalo Hermosa, Castel Hermosa[2]​ y Edgar Villaroel. Alcanzaron popularidad nacional e internacional junto a los compositores: Ulises Hermosa[3]​, Élmer Hermosa, Edgar Villaroel, Edwin Castellanos, Fernando Torrico, Gastón Guardia y Guillermo Ponce.\n",
      "Section: Origen del nombre (1):\n",
      "El nombre significa \"kjarka = nada, sin afinar\". Así se sentía el grupo en sus comienzos; buscaron establecer una comparación entre un instrumento sin ajustar y la situación inicial del conjunto musical.\n",
      "Subsections (0):\n",
      "\n",
      "Section: Historia (1):\n",
      "En principio Los Kjarkas surgió como una necesidad económica para sus integrantes, yendo de pueblo en pueblo tocando zamba argentina, pues la música autóctona de Bolivia aun no tenía demasiada repercusión. Sin embargo, poco a poco, diversas peñas comenzaron a hacer énfasis en ritmos más propios del país como la cueca, huayño o bailecito de compositores como Simeón Roncal, Gilberto Rojas o Teófilo Vargas. Es en estos años cuando Los Kjarkas toman parte en esa transformación y forjan sus cimientos musicales que más tarde les darían éxito.\n",
      "Tras esos inicios, los integrantes abandonan el grupo y Gonzalo Hermosa refunda el grupo con los músicos Eddy Carpio, Antonio Canelas y Alcides Mejía, y durante más de 10 años Los Kjarkas se van perfeccionando en la composición e interpretación de la música andina.[4]​ Se presentan en La Paz por primera vez en 1975 tras tocar en fiestas privadas. Ese mismo año representaron a su país en el festival de música folklórica de Brasil.\n",
      "Fue a través de José “Danger” Salamanca que Alcides Mejia conoció a los hermanos Hermosa: Elmer, Ulises y Gonzalo. Los hermanos mayores Wilson, Castel, Gonzalo y Edgar, integraban el grupo Kjarkas inicial, los que regresando de su viaje a Chile, decidieron deshacer Kjarkas, quedando desarticulados  por mucho tiempo.\n",
      "Alcides fue participante y cofundador de la 1.ª Restructuración de Kjarkas, en el año 1974 junto Ulises y Elmer.\n",
      "Durante algunos años, Los Kjarkas se dedican a perfeccionar un estilo de música propio, adaptando ritmos autóctonos a la estructura musical de ritmos criollos, dando prioridad a las intervenciones de instrumentos de viento y de ronroco, con arreglos corales. Es así que en 1975 se presentan en La Paz y empiezan a grabar al año siguiente su primer disco.\n",
      "Integrantes: Ulises Hermosa, Élmer Hermosa, Alcides Mejia, José Antonio Canelas y Edgar Villarroel. Terminada la grabación, Alcides Mejia dejó el grupo por un desacuerdo con Ulises y Elmer basado en la voluntad de éstos de continuar con sus estudios.\n",
      "En el año 1976 publican en México su primer álbum “Bolivia” con el sello discográfico Heriba. Consta de 9 canciones, casi todas ellas compuestas por Gonzalo Hermosa, entre las cuales se encuentra “Bolivia”, canción que alcanzó gran popularidad.\n",
      "Con el éxito ya ganado el grupo se nutre de otros dos hermanos Hermosa: Ulises y Élmer, Toño Canelas, Gastón Guardia, Guillermo Ponce y Édgar Villarroel (homónimo del fundador).\n",
      "En 1977 y 1978 llegan dos álbumes publicados bajo el nombre de Fortaleza (por restricciones contractuales) con canciones de raíces folklóricas y que más tarde, en 1995, serían reeditados en un solo CD con el nombre de “Sueño milenario de los Andes”. De la misma manera 1979 el disco \"Kutimuy\" sale a la luz destacando el tema que lleva el mismo nombre, iniciando la nueva generación y renacer de los kjarkas de la mano de Élmer Hermosa, Julio Lavayen, Ulises Hermosa y Gastón Guardia. El grupo se fue haciendo más popular, organizando giras no sólo por Bolivia, sino por toda Sudamérica, Europa, Estados Unidos y Japón.\n",
      "En 1980 publican “Cóndor Mallku”. El disco incluye canciones de índole románticas, marcando un alejamiento del folklore tradicional.\n",
      "En 1981 con el disco \"Canto a la mujer de mi pueblo\" llegan las canciones más icónicas y populares de la agrupación como \"Wayayay\" y «Llorando se fue» teniendo como participación en el charango a Gonzalo Hermosa, debido al alejamiento de Julio Lavayen. Tiempo después se reincorpora al grupo Julio Lavayen en el Charango, Ramiro de la Zerda en guitarra y Raúl Muriel en los instrumentos de viento en el álbum “Desde el alma de mi pueblo”, con participación en la canción \"Sunchu t'ikitay\".\n",
      "En 1984 Los Kjarkas fueron invitados al X Festival de Yamaha de la Canción donde competían más de 1800 canciones de todo el mundo para el primer premio. La composición de Ulises Hermosa “Florcita azul” quedó en el décimo lugar. Este evento abrió a Los Kjarkas al mercado japonés.[5]​\n",
      "A finales de los 80 un incidente dio a Los Kjarkas una fama y repercusión mundial mayor. El grupo Kaoma lanzó la canción «Chorando se foi», o la «Lambada», que se bailaba a ritmo caribeño. La canción resultó ser un plagio de «Llorando se fue», la composición de Ulises Hermosa, editada en 1984 a ritmo de saya caporal. Esta canción estaba registrada en Alemania y por ello Kaoma tuvo que indemnizar a Los Kjarkas con una suma de dinero que no se hizo pública.\n",
      "Hicieron paso por la agrupación los músicos Edwin Castellanos y Fernando Torrico, que más tarde abandonarían el grupo para formar el dúo Tupay.\n",
      "En 1990 editan el único álbum en el que no cantan, titulado “Ch’uwa yacu”. En 1992 el grupo se vio fuertemente resentido por la enfermedad del compositor Ulises Hermosa. Tras viajar a Estados Unidos, muere de un cáncer en Houston. Antes de morir concluyó su canción “El árbol de mi destino”. Al año siguiente Los Kjarkas publican el disco “Hermanos”, que incluye la composición del desaparecido Ulises “Tarajchi” pero con letra añadida por su hermano Gonzalo, que describe la historia y sentires de la familia Hermosa.\n",
      "En los años 90 se incorporaron al grupo Ronaldo Malpartida, Eduardo Yáñez, Alcídes Mejía, Miguel Mengoa y José Luis Morales. Siguieron cosechando éxitos como “Señora su hija”, “Mi pecado”, “Ave de cristal”, “A los 500 años”, “La pícara” y “El líder de los humildes”.\n",
      "En 1997 Los Kjarkas publican su primer vídeo “Por siempre…” en el que se televisa la presentación del disco en el Hotel Presidente.\n",
      "El nuevo milenio trae importantes cambios en Los Kjarkas, el grupo se rejuvenece con nuevos y jóvenes artistas: Gonzalo Hermosa Jr. Lin Angulo y el japonés Makoto Shishido. Ello da un nuevo enfoque a las composiciones como “Lección de vida”, “Saya sensual”, “Kamanchaca” etc. En el año 2006 Los Kjarkas publican su último disco hasta el momento “35 años” que conmemora el aniversario de la aparición del grupo. En 2016 Los Kjarkas publican su disco \"La Leyenda Viva\", en conmemoración de sus 45 Años de carrera artística.\n",
      "En 1995 Alcides es llamado a formar parte de la 2.ª restructuración de Kjarkas, puesto que el Proyecto “Pacha” tomó el tiempo de Elmer, Gastón, Edwin y Fernando, dejando en un largo receso de 1 año a Kjarkas, (tiempo y estrategia que usó Gonzalo Hermosa para sacar del grupo a Fernando Torrico y Edwin Castellanos), para luego al finalizar el Proyecto “Pacha” sólo Gastón y Elmer volvieran a reintegrarse al grupo. Fue un trabajo de más de 1 año, preparando el terreno para el relanzamiento y nueva restructuración de Kjarkas, además de preparar el repertorio tanto para el concierto, así como para el Álbum 25 Aniversario: “Kjarkas por Siempre” los que fueron realizados en la ciudad de La Paz Bolivia.\n",
      "Integrantes: Rolando Malpartida, Elmer Hermosa, Alcides Mejia, Gastón Guardia, Eduardo Yáñez y Gonzalo Hermosa\n",
      "“Kjarkas por Siempre” Álbum grabado en los Estudios Discolandia para el sello RCA en La Paz, Bolivia, en 1996 técnico: Fredy Roca\n",
      "Luego de más de 2 años de giras, ensayos, viajes, grabaciones, filmaciones y entrevistas.\n",
      "Subsections (0):\n",
      "\n",
      "\u001b[0m> Running step f7bb1de4-8012-426c-b023-afc8f7d9233e. Step input: None\n",
      "\u001b[1;3;38;5;200mThought: I can answer without using any more tools. I'll use the user's language to answer\n",
      "Answer: Los Kjarkas son un conjunto de música folklórica originario de Capinota, Cochabamba, Bolivia. \n",
      "\n",
      "Fueron fundados el 23 de junio de 1971 por los hermanos Wilson Hermosa, Gonzalo Hermosa, Castel Hermosa y Edgar Villaroel.  Consiguieron gran popularidad tanto en Bolivia como a nivel internacional junto a compositores como Ulises Hermosa, Élmer Hermosa, Edgar Villaroel, Edwin Castellanos, Fernando Torrico, Gastón Guardia y Guillermo Ponce.\n",
      "\u001b[0mLos Kjarkas son un conjunto de música folklórica originario de Capinota, Cochabamba, Bolivia. \n",
      "\n",
      "Fueron fundados el 23 de junio de 1971 por los hermanos Wilson Hermosa, Gonzalo Hermosa, Castel Hermosa y Edgar Villaroel.  Consiguieron gran popularidad tanto en Bolivia como a nivel internacional junto a compositores como Ulises Hermosa, Élmer Hermosa, Edgar Villaroel, Edwin Castellanos, Fernando Torrico, Gastón Guardia y Guillermo Ponce.\n"
     ]
    }
   ],
   "source": [
    "print(agent.chat(\"quienes son los kjarkas?\").response)"
   ]
  },
  {
   "cell_type": "code",
   "execution_count": 54,
   "metadata": {},
   "outputs": [
    {
     "name": "stdout",
     "output_type": "stream",
     "text": [
      "> Running step 39d88a65-c085-4138-9c13-c653a6224d20. Step input: cual es su canción mas conocida?\n",
      "\u001b[1;3;38;5;200mThought: I need to use the Kjarkas_songs_lyrics tool to find out which of their songs is most well-known.\n",
      "Action: Kjarkas_songs_lyrics\n",
      "Action Input: {'input': 'cuál es la canción más conocida de Los Kjarkas?'}\n",
      "\u001b[0m\u001b[1;3;34mObservation: De acuerdo a las canciones que se proveen en el contexto,  la canción más conocida de Los Kjarkas es **\"Mi Gran Amor\"**. \n",
      "\n",
      "* En esta canción se expresa con gran sentimiento el amor y la devoción hacia una persona amada.\n",
      "    * El tono/sentimiento general es romántico y apasionado.\n",
      "\n",
      "\n",
      "\n",
      "\u001b[0m> Running step 0ef41e0d-7933-4be0-a1d5-af5aaf115782. Step input: None\n",
      "\u001b[1;3;38;5;200mThought: I can answer without using any more tools. I'll use the user's language to answer\n",
      "Answer: Su canción más conocida es \"Mi Gran Amor\".\n",
      "\u001b[0mSu canción más conocida es \"Mi Gran Amor\".\n"
     ]
    }
   ],
   "source": [
    "print(agent.chat(\"cual es su canción mas conocida?\").response)"
   ]
  },
  {
   "cell_type": "code",
   "execution_count": 55,
   "metadata": {},
   "outputs": [
    {
     "name": "stdout",
     "output_type": "stream",
     "text": [
      "> Running step bbd85d27-66ec-4b01-807f-a4554bdb787d. Step input: dame toda la letra completa de esta canción\n",
      "\u001b[1;3;38;5;200mThought: I need to use the Kjarkas_songs_lyrics tool to get the lyrics for Mi Gran Amor.\n",
      "Action: Kjarkas_songs_lyrics\n",
      "Action Input: {'input': 'Mi Gran Amor'}\n",
      "\u001b[0m\u001b[1;3;34mObservation: • \"Mi Gran Amor\" es una canción interpretada por el grupo Kjarkas.  \n",
      "\n",
      "* Algunas de sus letras son: \n",
      "\n",
      "   >Amor, mi gran amor\n",
      "   >mi mas bella ilusión\n",
      "   >mejor canción\n",
      "   >los ojos de mi alma\n",
      "   >a quien cuide\n",
      "   >la tierna ilusión\n",
      "   >que alimente\n",
      "   >tu eres al milagro\n",
      "   >de este amor\n",
      "   >y eres mi razón\n",
      "   >para vivir\n",
      "\n",
      "* El tono de la canción es uno de amor profundo y devoción.  \n",
      "\n",
      "\n",
      "\n",
      "\u001b[0m> Running step dcf21773-069a-4147-ac8d-24f10c623f69. Step input: None\n",
      "\u001b[1;3;38;5;200mThought: I can answer without using any more tools. I'll use the user's language to answer\n",
      "Answer: La letra completa de \"Mi Gran Amor\" es larga. La herramienta proporcionó algunas líneas, pero no la letra completa.\n",
      "\u001b[0mLa letra completa de \"Mi Gran Amor\" es larga. La herramienta proporcionó algunas líneas, pero no la letra completa.\n"
     ]
    }
   ],
   "source": [
    "print(agent.chat(\"dame toda la letra completa de esta canción\").response)"
   ]
  },
  {
   "cell_type": "code",
   "execution_count": null,
   "metadata": {},
   "outputs": [],
   "source": []
  }
 ],
 "metadata": {
  "kernelspec": {
   "display_name": "topics_2024",
   "language": "python",
   "name": "python3"
  },
  "language_info": {
   "codemirror_mode": {
    "name": "ipython",
    "version": 3
   },
   "file_extension": ".py",
   "mimetype": "text/x-python",
   "name": "python",
   "nbconvert_exporter": "python",
   "pygments_lexer": "ipython3",
   "version": "3.11.9"
  }
 },
 "nbformat": 4,
 "nbformat_minor": 2
}
