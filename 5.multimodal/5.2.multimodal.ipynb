{
 "cells": [
  {
   "cell_type": "code",
   "execution_count": 1,
   "metadata": {},
   "outputs": [],
   "source": [
    "import random\n",
    "import httpx\n",
    "from ollama import Client"
   ]
  },
  {
   "cell_type": "code",
   "execution_count": 7,
   "metadata": {},
   "outputs": [
    {
     "name": "stdout",
     "output_type": "stream",
     "text": [
      "{'month': '12', 'num': 520, 'link': '', 'year': '2008', 'news': '', 'safe_title': 'Cuttlefish', 'transcript': 'We visit a bio lab: [[Man and woman visit a bio lab where they look into a tank that the scientists point at.]]\\nScientist- \"These are cuttlefish.\"\\n[[Image of a cuttlefish]] They\\'re frighteningly smart, have manipulating arms and tentacles, have ink jets, can dart backwards and see the polarization of light through their w-shaped pupils. And their sides are 200 dpi display screens which they use for camouflage and communication.\\nScientist - \"When we realized how intelligent they were, we began to teach them. They\\'ve advanced quickly. Cuttlefish: GO.\"\\n[[Cuttlefish float out of the tank at man and woman]]\\nCuttlefishes- \"Kill the physicists... kill the physicists\"\\n[[Cuttlefish zap the man and Megan as they fall]]\\nMan- [[Waking up from his sleep]] \"Oh god. I knew it.\"\\nXKCD - Salutes Bio Majors\\n[[Bottle is pouring into a flask, and a man takes the flask and drinks from it]] If we join you against the chemists, will you train your fleshy minions to leave us alive?\\n{{Alt-Text: Unless the CS Majors finish the robot revolution before you finish the cephalopod one}}', 'alt': 'Unless the CS students finish the robot revolution before you finish the cephalopod one.', 'img': 'https://imgs.xkcd.com/comics/cuttlefish.png', 'title': 'Cuttlefish', 'day': '22'}\n"
     ]
    }
   ],
   "source": [
    "num = 520\n",
    "comic = httpx.get(f\"https://xkcd.com/{num}/info.0.json\")\n",
    "print(comic.json())"
   ]
  },
  {
   "cell_type": "code",
   "execution_count": 8,
   "metadata": {},
   "outputs": [
    {
     "name": "stdout",
     "output_type": "stream",
     "text": [
      "200\n"
     ]
    }
   ],
   "source": [
    "raw = httpx.get(comic.json().get(\"img\"))\n",
    "print(raw.status_code)"
   ]
  },
  {
   "cell_type": "code",
   "execution_count": 9,
   "metadata": {},
   "outputs": [],
   "source": [
    "client = Client(host=\"https://workstation.tail5ac87b.ts.net\")"
   ]
  },
  {
   "cell_type": "code",
   "execution_count": 10,
   "metadata": {},
   "outputs": [
    {
     "name": "stdout",
     "output_type": "stream",
     "text": [
      "{'model': 'llava-llama3', 'created_at': '2024-10-17T12:51:26.627213116Z', 'response': 'Sí, aquí tienes la traducción del cómic \"X CDC Salutes Kids\\' Science\". Está traducido para ti.\\n\\nEste cómic es una sátira en un estilo de comedia negra y explora los desafíos que enfrenta el laboratorio de niños \"Kids\\' Lab\" en su lucha por encontrar la curiosidad científica. El laboratorio, dirigido por un anciano conocido como \"Dr. B\", está trabajando para hacer investigación científica en lugar de enseñar a los niños sobre el mundo alrededor suyo.\\n\\nAunque la traducción no es necesaria ya que puedes leerlo directamente en español, espero que esta traducción sea útil para ti. Si tienes alguna pregunta o precisión adicional, no dudes en preguntar.', 'done': True, 'done_reason': 'stop', 'context': [128006, 882, 128007, 271, 58, 1931, 12, 15, 60, 198, 198, 4683, 15677, 10566, 20303, 11, 665, 70988, 128009, 128006, 78191, 128007, 198, 198, 50, 2483, 11, 54189, 72197, 1208, 4790, 68836, 1624, 29876, 21914, 220, 1, 55, 40409, 8375, 2142, 23338, 6, 10170, 3343, 9589, 1995, 4790, 1791, 5362, 3429, 9165, 13, 198, 198, 44090, 29876, 21914, 1560, 5203, 104180, 9008, 665, 653, 70383, 409, 470, 4596, 4277, 969, 379, 3327, 6347, 2537, 951, 2642, 2483, 437, 1744, 89599, 64, 658, 9511, 37690, 409, 68356, 220, 1, 70533, 6, 11868, 1, 665, 924, 326, 55481, 4247, 46723, 1208, 2917, 3614, 5969, 89097, 46602, 3074, 13, 4072, 9511, 37690, 11, 64956, 5362, 4247, 653, 46845, 13389, 33946, 5362, 8112, 220, 1, 9023, 13, 426, 498, 15833, 39974, 4988, 3429, 26377, 98624, 89097, 46602, 3074, 665, 35000, 409, 68061, 5771, 277, 264, 2537, 68356, 15482, 658, 29452, 453, 1171, 25356, 924, 16417, 13, 198, 198, 32, 37627, 1208, 4790, 68836, 912, 1560, 25203, 10649, 13835, 1744, 60045, 54238, 385, 2167, 9157, 665, 70988, 11, 31157, 78, 1744, 15491, 4790, 68836, 9581, 18448, 1678, 3429, 9165, 13, 12095, 72197, 73127, 80440, 297, 20847, 3739, 1008, 63893, 11, 912, 73222, 665, 20575, 3935, 277, 13], 'total_duration': 2350487328, 'load_duration': 390756331, 'prompt_eval_duration': 200116000, 'eval_count': 172, 'eval_duration': 1600894000}\n"
     ]
    }
   ],
   "source": [
    "response = client.generate(\n",
    "    model=\"llava-llama3\", \n",
    "    prompt=\"explica este comic, en español\",\n",
    "    images=[\n",
    "        raw.content\n",
    "    ]\n",
    "    )\n",
    "print(response)"
   ]
  },
  {
   "cell_type": "code",
   "execution_count": 11,
   "metadata": {},
   "outputs": [
    {
     "data": {
      "text/plain": [
       "'Sí, aquí tienes la traducción del cómic \"X CDC Salutes Kids\\' Science\". Está traducido para ti.\\n\\nEste cómic es una sátira en un estilo de comedia negra y explora los desafíos que enfrenta el laboratorio de niños \"Kids\\' Lab\" en su lucha por encontrar la curiosidad científica. El laboratorio, dirigido por un anciano conocido como \"Dr. B\", está trabajando para hacer investigación científica en lugar de enseñar a los niños sobre el mundo alrededor suyo.\\n\\nAunque la traducción no es necesaria ya que puedes leerlo directamente en español, espero que esta traducción sea útil para ti. Si tienes alguna pregunta o precisión adicional, no dudes en preguntar.'"
      ]
     },
     "execution_count": 11,
     "metadata": {},
     "output_type": "execute_result"
    }
   ],
   "source": [
    "response[\"response\"]"
   ]
  },
  {
   "cell_type": "code",
   "execution_count": null,
   "metadata": {},
   "outputs": [],
   "source": []
  }
 ],
 "metadata": {
  "kernelspec": {
   "display_name": "topics_2024",
   "language": "python",
   "name": "python3"
  },
  "language_info": {
   "codemirror_mode": {
    "name": "ipython",
    "version": 3
   },
   "file_extension": ".py",
   "mimetype": "text/x-python",
   "name": "python",
   "nbconvert_exporter": "python",
   "pygments_lexer": "ipython3",
   "version": "3.11.9"
  }
 },
 "nbformat": 4,
 "nbformat_minor": 2
}
