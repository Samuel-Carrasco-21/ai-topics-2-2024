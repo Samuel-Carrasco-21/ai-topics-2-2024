{
 "cells": [
  {
   "cell_type": "code",
   "execution_count": 1,
   "metadata": {},
   "outputs": [
    {
     "data": {
      "text/plain": [
       "True"
      ]
     },
     "execution_count": 1,
     "metadata": {},
     "output_type": "execute_result"
    }
   ],
   "source": [
    "from dotenv import load_dotenv\n",
    "load_dotenv()"
   ]
  },
  {
   "cell_type": "markdown",
   "metadata": {},
   "source": [
    "## Agente"
   ]
  },
  {
   "cell_type": "code",
   "execution_count": 3,
   "metadata": {},
   "outputs": [],
   "source": [
    "from crewai import Agent\n",
    "\n",
    "researcher = Agent(\n",
    "    role=\"Senior Researcher\",\n",
    "    goal=\"Uncover goundbreaking technologies in AI\",\n",
    "    backstory=\"Driven by curiosity, you explore and share the latest innovations.\"\n",
    ")"
   ]
  },
  {
   "cell_type": "markdown",
   "metadata": {},
   "source": [
    "## Tareas (tasks)"
   ]
  },
  {
   "cell_type": "code",
   "execution_count": 6,
   "metadata": {},
   "outputs": [],
   "source": [
    "from crewai import Task\n",
    "\n",
    "# defiir una tarea de investigacion para nuestro agente\n",
    "research_task = Task(\n",
    "    agent=researcher,\n",
    "    description=\"Identify the next big trend in AI with pros and cons\",\n",
    "    expected_output=\"A 3-paragraph report on emerging AI technologies\"\n",
    ")"
   ]
  },
  {
   "cell_type": "markdown",
   "metadata": {},
   "source": [
    "## despliegue (kickoff)"
   ]
  },
  {
   "cell_type": "code",
   "execution_count": 7,
   "metadata": {},
   "outputs": [
    {
     "name": "stderr",
     "output_type": "stream",
     "text": [
      "2024-10-21 07:43:59,736 - 8244677632 - __init__.py-__init__:538 - WARNING: Overriding of current TracerProvider is not allowed\n"
     ]
    }
   ],
   "source": [
    "from crewai import Crew, Process\n",
    "\n",
    "# crear crew y desplegar proceso\n",
    "crew = Crew(\n",
    "    agents=[researcher],\n",
    "    tasks=[research_task],\n",
    "    process=Process.sequential\n",
    ")"
   ]
  },
  {
   "cell_type": "code",
   "execution_count": 9,
   "metadata": {},
   "outputs": [],
   "source": [
    "result = crew.kickoff(inputs={\n",
    "    \"topic\": \"AI in manufacturing\"\n",
    "})"
   ]
  },
  {
   "cell_type": "code",
   "execution_count": 15,
   "metadata": {},
   "outputs": [
    {
     "name": "stdout",
     "output_type": "stream",
     "text": [
      "total_tokens=578 prompt_tokens=185 completion_tokens=393 successful_requests=1\n"
     ]
    }
   ],
   "source": [
    "dir(result)\n",
    "print(result.token_usage)"
   ]
  },
  {
   "cell_type": "code",
   "execution_count": 16,
   "metadata": {},
   "outputs": [],
   "source": [
    "output = research_task.output"
   ]
  },
  {
   "cell_type": "code",
   "execution_count": 19,
   "metadata": {},
   "outputs": [
    {
     "data": {
      "text/plain": [
       "TaskOutput(description='Identify the next big trend in AI with pros and cons', name=None, expected_output='A 3-paragraph report on emerging AI technologies', summary='Identify the next big trend in AI with pros and...', raw='One of the most significant emerging trends in AI is the advancement of Generative AI technologies. These systems, which include models like GPT-3 and its successors, have already demonstrated remarkable capabilities in generating human-like text, images, audio, and even video content. The underlying deep learning architectures, particularly neural networks, leverage vast amounts of data to create realistic and contextually relevant outputs. The application potential for Generative AI spans various fields, from creative industries such as music and art to functional domains like automated content creation, customer support, and drug discovery, thereby transforming the way we interact with digital content and accelerating innovation across multiple sectors.\\n\\nHowever, the rise of Generative AI also presents several challenges that warrant close scrutiny. One of the primary concerns is the ethical implications surrounding the technology, including issues of copyright infringement, misinformation, and the potential for deepfakes. As AI-generated content becomes indistinguishable from human-produced work, it raises questions about the authenticity and accountability of such content. The proliferation of deepfakes, for example, poses a growing threat to trust in media and communication, as malicious actors can manipulate information for nefarious purposes. Additionally, there are concerns about bias and fairness in AI models, as the training data can reinforce existing societal biases, leading to discriminatory practices.\\n\\nOn a more positive note, innovations in regulatory frameworks and AI governance could mitigate some of the risks associated with Generative AI. Developers and researchers are already working towards creating models that can better understand and adhere to ethical standards, enhancing transparency and accountability. Collaboration between technologists, policymakers, and ethicists is essential to ensure that the potential benefits of Generative AI outweigh its risks. As organizations embrace responsible AI practices and invest in better security protocols, society can harness the vast capabilities of Generative AI while minimizing its drawbacks, paving the way for a future where AI-generated content enriches human experiences rather than detracts from them.', pydantic=None, json_dict=None, agent='Senior Researcher', output_format=<OutputFormat.RAW: 'raw'>)"
      ]
     },
     "execution_count": 19,
     "metadata": {},
     "output_type": "execute_result"
    }
   ],
   "source": [
    "output"
   ]
  }
 ],
 "metadata": {
  "kernelspec": {
   "display_name": ".venv",
   "language": "python",
   "name": "python3"
  },
  "language_info": {
   "codemirror_mode": {
    "name": "ipython",
    "version": 3
   },
   "file_extension": ".py",
   "mimetype": "text/x-python",
   "name": "python",
   "nbconvert_exporter": "python",
   "pygments_lexer": "ipython3",
   "version": "3.11.9"
  }
 },
 "nbformat": 4,
 "nbformat_minor": 2
}
